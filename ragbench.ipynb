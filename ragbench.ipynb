{
 "cells": [
  {
   "cell_type": "code",
   "id": "initial_id",
   "metadata": {
    "collapsed": true,
    "ExecuteTime": {
     "end_time": "2024-12-08T04:56:38.829552Z",
     "start_time": "2024-12-08T04:56:03.943757Z"
    }
   },
   "source": [
    "from dotenv import load_dotenv\n",
    "\n",
    "from camel.retrievers import AutoRetriever\n",
    "from camel.agents import ChatAgent\n",
    "from datasets import load_dataset\n",
    "from camel.retrievers.evaluation import annotate_dataset, \\\n",
    "    ragas_evaluate_dataset, ragas_calculate_metrics, ragas_benchmark\n",
    "\n",
    "load_dotenv()\n",
    "auto_retriever = AutoRetriever()\n",
    "\n",
    "\n",
    "def context_call(example):\n",
    "    retrieved_info = auto_retriever.run_vector_retriever(\n",
    "        query=example['question'],\n",
    "        contents=example['documents'],\n",
    "        top_k=1,\n",
    "        return_detailed_info=True,\n",
    "        similarity_threshold=0.5,\n",
    "    )\n",
    "    return [c['text'] for c in retrieved_info['Retrieved Context']]\n",
    "\n",
    "\n",
    "def answer_call(example):\n",
    "    user_msg = str(example)\n",
    "    assistant_sys_msg = \"\"\"You are a helpful assistant to answer question,\n",
    "         I will give you the Original Query and Retrieved Context,\n",
    "        answer the Original Query based on the Retrieved Context,\n",
    "        if you can't answer the question just say I don't know.\"\"\"\n",
    "    agent = ChatAgent(assistant_sys_msg)\n",
    "    assistant_response = agent.step(user_msg)\n",
    "    return assistant_response.msg.content\n",
    "\n",
    "\n",
    "# Refer to https://huggingface.co/datasets/rungalileo/ragbench for a complete list of dataset\n",
    "ragbench_hotpotqa = load_dataset(\"rungalileo/ragbench\", \"hotpotqa\", split=\"test\")\n",
    "\n",
    "# Select a subset of the dataset for demonstration purposes\n",
    "ds = ragbench_hotpotqa.select(range(94, 98))\n",
    "\n",
    "# Annotate the dataset\n",
    "annotated_ds = annotate_dataset(ds, context_call, answer_call)\n",
    "\n",
    "# Evaluate the dataset\n",
    "evaluated_ds = ragas_evaluate_dataset(\n",
    "    annotated_ds,\n",
    "    contexts_field_name=\"contexts\",\n",
    "    answer_field_name=\"answer\",\n",
    "    metrics_to_evaluate=[\"context_relevancy\", \"faithfulness\"]\n",
    ")\n",
    "\n",
    "# Calculate metrics\n",
    "# See https://arxiv.org/abs/2407.11005 for more details on the metrics, right now only context_relevancy and faithfulness are supported\n",
    "calculated_metrics = ragas_calculate_metrics(\n",
    "    evaluated_ds,\n",
    "    pred_context_relevance_field=\"context_relevancy\",\n",
    "    pred_faithfulness_field=\"faithfulness\",\n",
    ")\n",
    "\n",
    "# Or simply call\n",
    "ds_two = ragbench_hotpotqa.select(range(94, 98))\n",
    "calculated_metrics_two = ragas_benchmark(ds_two, context_call, answer_call)\n",
    "\n",
    "\n"
   ],
   "outputs": [
    {
     "name": "stdout",
     "output_type": "stream",
     "text": [
      "2024-12-07 20:56:03,952 - camel - INFO - Camel library logging has been configured.\n",
      "2024-12-07 20:56:04,884 - datasets - INFO - PyTorch version 2.5.1 available.\n"
     ]
    },
    {
     "name": "stderr",
     "output_type": "stream",
     "text": [
      "/Users/xianglonghu/Library/Caches/pypoetry/virtualenvs/camel-ai-jCeOoVl4-py3.11/lib/python3.11/site-packages/tqdm/auto.py:21: TqdmWarning: IProgress not found. Please update jupyter and ipywidgets. See https://ipywidgets.readthedocs.io/en/stable/user_install.html\n",
      "  from .autonotebook import tqdm as notebook_tqdm\n",
      "/Users/xianglonghu/Library/Caches/pypoetry/virtualenvs/camel-ai-jCeOoVl4-py3.11/lib/python3.11/site-packages/ragas/metrics/__init__.py:1: LangChainDeprecationWarning: As of langchain-core 0.3.0, LangChain uses pydantic v2 internally. The langchain_core.pydantic_v1 module was a compatibility shim for pydantic v1, and should no longer be used. Please update the code to import from Pydantic directly.\n",
      "\n",
      "For example, replace imports like: `from langchain_core.pydantic_v1 import BaseModel`\n",
      "with: `from pydantic import BaseModel`\n",
      "or the v1 compatibility namespace if you are working in a code base that has not been fully upgraded to pydantic 2 yet. \tfrom pydantic.v1 import BaseModel\n",
      "\n",
      "  from ragas.metrics._answer_correctness import AnswerCorrectness, answer_correctness\n",
      "/Users/xianglonghu/Library/Caches/pypoetry/virtualenvs/camel-ai-jCeOoVl4-py3.11/lib/python3.11/site-packages/ragas/metrics/__init__.py:4: LangChainDeprecationWarning: As of langchain-core 0.3.0, LangChain uses pydantic v2 internally. The langchain.pydantic_v1 module was a compatibility shim for pydantic v1, and should no longer be used. Please update the code to import from Pydantic directly.\n",
      "\n",
      "For example, replace imports like: `from langchain.pydantic_v1 import BaseModel`\n",
      "with: `from pydantic import BaseModel`\n",
      "or the v1 compatibility namespace if you are working in a code base that has not been fully upgraded to pydantic 2 yet. \tfrom pydantic.v1 import BaseModel\n",
      "\n",
      "  from ragas.metrics._context_entities_recall import (\n",
      "Parameter 'function'=<function annotate_dataset.<locals>.process_example at 0x17308d9e0> of the transform datasets.arrow_dataset.Dataset._map_single couldn't be hashed properly, a random hash was used instead. Make sure your transforms and parameters are serializable with pickle or dill for the dataset fingerprinting and caching to work. If you reuse this transform, the caching mechanism will consider it to be different from the previous calls and recompute everything. This warning is only showed once. Subsequent hashing failures won't be showed.\n"
     ]
    },
    {
     "name": "stdout",
     "output_type": "stream",
     "text": [
      "2024-12-07 20:56:08,725 - datasets.fingerprint - WARNING - Parameter 'function'=<function annotate_dataset.<locals>.process_example at 0x17308d9e0> of the transform datasets.arrow_dataset.Dataset._map_single couldn't be hashed properly, a random hash was used instead. Make sure your transforms and parameters are serializable with pickle or dill for the dataset fingerprinting and caching to work. If you reuse this transform, the caching mechanism will consider it to be different from the previous calls and recompute everything. This warning is only showed once. Subsequent hashing failures won't be showed.\n"
     ]
    },
    {
     "name": "stderr",
     "output_type": "stream",
     "text": [
      "Map:   0%|          | 0/4 [00:00<?, ? examples/s]"
     ]
    },
    {
     "name": "stdout",
     "output_type": "stream",
     "text": [
      "2024-12-07 20:56:09,454 - httpx - INFO - HTTP Request: POST https://api.openai.com/v1/embeddings \"HTTP/1.1 200 OK\"\n",
      "2024-12-07 20:56:10,307 - httpx - INFO - HTTP Request: POST https://api.openai.com/v1/embeddings \"HTTP/1.1 200 OK\"\n",
      "2024-12-07 20:56:10,479 - httpx - INFO - HTTP Request: POST https://api.openai.com/v1/embeddings \"HTTP/1.1 200 OK\"\n",
      "2024-12-07 20:56:10,691 - httpx - INFO - HTTP Request: POST https://api.openai.com/v1/embeddings \"HTTP/1.1 200 OK\"\n",
      "2024-12-07 20:56:10,854 - httpx - INFO - HTTP Request: POST https://api.openai.com/v1/embeddings \"HTTP/1.1 200 OK\"\n",
      "2024-12-07 20:56:11,036 - httpx - INFO - HTTP Request: POST https://api.openai.com/v1/embeddings \"HTTP/1.1 200 OK\"\n",
      "2024-12-07 20:56:11,157 - httpx - INFO - HTTP Request: POST https://api.openai.com/v1/embeddings \"HTTP/1.1 200 OK\"\n",
      "2024-12-07 20:56:11,496 - httpx - INFO - HTTP Request: POST https://api.openai.com/v1/embeddings \"HTTP/1.1 200 OK\"\n",
      "2024-12-07 20:56:12,511 - httpx - INFO - HTTP Request: POST https://api.openai.com/v1/chat/completions \"HTTP/1.1 200 OK\"\n",
      "2024-12-07 20:56:12,516 - camel.agents.chat_agent - INFO - Model gpt-4o-mini, index 0, processed these messages: [{'role': 'system', 'content': \"You are a helpful assistant to answer question,\\n         I will give you the Original Query and Retrieved Context,\\n        answer the Original Query based on the Retrieved Context,\\n        if you can't answer the question just say I don't know.\"}, {'role': 'user', 'content': '{\\'id\\': \\'5a8d12ca5542994ba4e3dbe2\\', \\'question\\': \\'In what city is the company that Fastjet Tanzania was originally founded as a part of prior to rebranding based?\\', \\'documents\\': [\\'Christian Brothers College (CBC, St. Kilda) was founded in 1878 and is a Roman Catholic independent secondary college for boys. It is part of the Association of Edmund Rice schools. The school was originally founded by the Christian Brothers, the Brothers are no longer involved in the running the school. It is located in the Melbourne suburb of St Kilda East.\\', \\'Fastjet Airlines Limited (Tanzania), also known as Fastjet Tanzania, is a low-cost airline that operates flights under the fastjet brand in Tanzania. The airline was founded in 2011 as \"Fly540 Tanzania\", but through the acquisition of Fly540 in 2012, it was rebranded as Fastjet Tanzania. It is based in Dar es Salaam. The airline carried more than 350,000 passengers in the first year of operations and sold one million seats by December 2014.\\', \"The National Convention Party (NCP) is a political party in Gambia. It was the main opposition party between 1975 and 1994. It was originally founded on 7 September 1975 when it first launched at Busumbala by former vice-president Sheriff Mustapha Dibba two weeks after his expulsion from the People\\'s Progressive Party (PPP). It initially welcomed the 1994 coup but was banned from participating in elections in August 1994. Prior to the 1992 elections, the party faced a series of setbacks as many of its leaders rejoin the PPP. Its candidate at the presidential elections of 18 October 2001, Sheriff Dibba, came fourth with 3.77% of the popular vote.\", \\'Five Forty Aviation Ltd, trading as Fly540, is a low-cost airline which commenced operations in 2006 and is based in Nairobi, Kenya, that operates domestic and international passenger and freight services. The airline had two subsidiary airlines, Fly540 Ghana (suspended in May 2014 and since sold) and Fly540 Angola (suspended in May 2014), but has since focused its business expansion plans on East Africa.\\'], \\'response\\': \\'The company that Fastjet Tanzania was originally founded as a part of prior to rebranding is based in Dar es Salaam, Tanzania.\\', \\'generation_model_name\\': \\'gpt-3.5-turbo-1106\\', \\'annotating_model_name\\': \\'gpt-4o\\', \\'dataset_name\\': \\'hotpotqa_test\\', \\'documents_sentences\\': [[[\\'0a\\', \\'Christian Brothers College (CBC, St. Kilda) was founded in 1878 and is a Roman Catholic independent secondary college for boys.\\'], [\\'0b\\', \\'It is part of the Association of Edmund Rice schools.\\'], [\\'0c\\', \\'The school was originally founded by the Christian Brothers, the Brothers are no longer involved in the running the school.\\'], [\\'0d\\', \\'It is located in the Melbourne suburb of St Kilda East.\\']], [[\\'1a\\', \\'Fastjet Airlines Limited (Tanzania), also known as Fastjet Tanzania, is a low-cost airline that operates flights under the fastjet brand in Tanzania.\\'], [\\'1b\\', \\'The airline was founded in 2011 as \"Fly540 Tanzania\", but through the acquisition of Fly540 in 2012, it was rebranded as Fastjet Tanzania.\\'], [\\'1c\\', \\'It is based in Dar es Salaam.\\'], [\\'1d\\', \\'The airline carried more than 350,000 passengers in the first year of operations and sold one million seats by December 2014.\\']], [[\\'2a\\', \\'The National Convention Party (NCP) is a political party in Gambia.\\'], [\\'2b\\', \\'It was the main opposition party between 1975 and 1994.\\'], [\\'2c\\', \"It was originally founded on 7 September 1975 when it first launched at Busumbala by former vice-president Sheriff Mustapha Dibba two weeks after his expulsion from the People\\'s Progressive Party (PPP).\"], [\\'2d\\', \\'It initially welcomed the 1994 coup but was banned from participating in elections in August 1994.\\'], [\\'2e\\', \\'Prior to the 1992 elections, the party faced a series of setbacks as many of its leaders rejoin the PPP.\\'], [\\'2f\\', \\'Its candidate at the presidential elections of 18 October 2001, Sheriff Dibba, came fourth with 3.77% of the popular vote.\\']], [[\\'3a\\', \\'Five Forty Aviation Ltd, trading as Fly540, is a low-cost airline which commenced operations in 2006 and is based in Nairobi, Kenya, that operates domestic and international passenger and freight services.\\'], [\\'3b\\', \\'The airline had two subsidiary airlines, Fly540 Ghana (suspended in May 2014 and since sold) and Fly540 Angola (suspended in May 2014), but has since focused its business expansion plans on East Africa.\\']]], \\'response_sentences\\': [[\\'a\\', \\'The company that Fastjet Tanzania was originally founded as a part of prior to rebranding is based in Dar es Salaam, Tanzania.\\']], \\'sentence_support_information\\': [{\\'explanation\\': \"Document 1 supports the claim that Fastjet Tanzania was originally founded as \\'Fly540 Tanzania.\\' However, Document 3 indicates that Fly540 was based in Nairobi, Kenya, not Dar es Salaam, Tanzania.\", \\'fully_supported\\': False, \\'response_sentence_key\\': \\'a\\', \\'supporting_sentence_keys\\': []}], \\'unsupported_response_sentence_keys\\': [\\'a\\'], \\'adherence_score\\': False, \\'overall_supported_explanation\\': \"The response sentence claims that Fastjet Tanzania was originally founded as \\'Fly540 Tanzania\\' and that the company was based in Dar es Salaam, Tanzania. Document 1 states that Fastjet Tanzania was originally Fly540 Tanzania and Document 3 provides information that Fly540 is based in Nairobi, Kenya. Thus, while the foundation and original name of the company are correct, the claim about the company being based in Dar es Salaam is incorrect. Therefore, the response as a whole is not supported by the documents.\", \\'relevance_explanation\\': \\'Document 1 contains useful information about Fastjet Tanzania, specifically its foundation and rebranding. Document 3 provides information about Fly540, the airline that Fastjet Tanzania was originally known as, including its base location in Nairobi. Therefore, these documents are relevant to answering the question of the city where the company that Fastjet Tanzania was originally founded as is based.\\', \\'all_relevant_sentence_keys\\': [\\'1a\\', \\'1b\\', \\'3a\\'], \\'all_utilized_sentence_keys\\': [\\'1b\\', \\'3a\\'], \\'trulens_groundedness\\': 0.0, \\'trulens_context_relevance\\': 0.9, \\'ragas_faithfulness\\': 1.0, \\'ragas_context_relevance\\': 0.1875, \\'gpt3_adherence\\': 1.0, \\'gpt3_context_relevance\\': 0.1875, \\'gpt35_utilization\\': 0.1875, \\'relevance_score\\': 0.1875, \\'utilization_score\\': 0.125, \\'completeness_score\\': 0.6666666666666666, \\'contexts\\': [\\'Fastjet Airlines Limited (Tanzania), also known as Fastjet Tanzania, is a low-cost airline that operates flights under the fastjet brand in Tanzania. The airline was founded in 2011 as \"Fly540 Tanzania\", but through the acquisition of Fly540 in 2012, it was rebranded as Fastjet Tanzania. It is based in Dar es Salaam. The airline carried more than 350,000 passengers in the first year of operations and sold one million seats by December 2014.\\']}'}]\n"
     ]
    },
    {
     "name": "stderr",
     "output_type": "stream",
     "text": [
      "Map:  25%|██▌       | 1/4 [00:03<00:11,  3.79s/ examples]"
     ]
    },
    {
     "name": "stdout",
     "output_type": "stream",
     "text": [
      "2024-12-07 20:56:12,649 - httpx - INFO - HTTP Request: POST https://api.openai.com/v1/embeddings \"HTTP/1.1 200 OK\"\n",
      "2024-12-07 20:56:12,814 - httpx - INFO - HTTP Request: POST https://api.openai.com/v1/embeddings \"HTTP/1.1 200 OK\"\n",
      "2024-12-07 20:56:13,036 - httpx - INFO - HTTP Request: POST https://api.openai.com/v1/embeddings \"HTTP/1.1 200 OK\"\n",
      "2024-12-07 20:56:13,423 - httpx - INFO - HTTP Request: POST https://api.openai.com/v1/embeddings \"HTTP/1.1 200 OK\"\n",
      "2024-12-07 20:56:13,595 - httpx - INFO - HTTP Request: POST https://api.openai.com/v1/embeddings \"HTTP/1.1 200 OK\"\n",
      "2024-12-07 20:56:13,773 - httpx - INFO - HTTP Request: POST https://api.openai.com/v1/embeddings \"HTTP/1.1 200 OK\"\n",
      "2024-12-07 20:56:13,938 - httpx - INFO - HTTP Request: POST https://api.openai.com/v1/embeddings \"HTTP/1.1 200 OK\"\n",
      "2024-12-07 20:56:14,109 - httpx - INFO - HTTP Request: POST https://api.openai.com/v1/embeddings \"HTTP/1.1 200 OK\"\n",
      "2024-12-07 20:56:14,855 - httpx - INFO - HTTP Request: POST https://api.openai.com/v1/chat/completions \"HTTP/1.1 200 OK\"\n",
      "2024-12-07 20:56:14,858 - camel.agents.chat_agent - INFO - Model gpt-4o-mini, index 0, processed these messages: [{'role': 'system', 'content': \"You are a helpful assistant to answer question,\\n         I will give you the Original Query and Retrieved Context,\\n        answer the Original Query based on the Retrieved Context,\\n        if you can't answer the question just say I don't know.\"}, {'role': 'user', 'content': '{\\'id\\': \\'5aba749855429955dce3ee34\\', \\'question\\': \\'Minneapolis hip hop collective member that released album in 2006?\\', \\'documents\\': [\\'Doomtree is an American hip hop collective and record label based in Minneapolis, Minnesota. The collective has seven members: Dessa, Cecil Otter, P.O.S, Sims, Mike Mictlan, Paper Tiger, and Lazerbeak. The collective is known for incorporating a wide range of musical influences into their work with lyrical complexity and wordplay, and their annual \"Doomtree Blowout\" events held in Minneapolis venues to showcase their group performances and the Twin Cities music scene.\\', \\'Audition is the second studio album by P.O.S, a member of Minneapolis hip hop collective Doomtree. It was released in 2006 on Rhymesayers Entertainment.\\', \\'Chill, Dummy (often stylized as Chill, dummy) is the fifth studio album by American hip hop artist P.O.S, a member of Minneapolis hip hop collective Doomtree. It was released January 27, 2017 on Doomtree Records, which is the first P.O.S solo album on the label released since \"Ipecac Neat\" in 2004. Guest appearances include Busdriver, Astronautalis, Open Mike Eagle and Justin Vernon, among others.\\', \"Tunnel Rats is a West Coast underground hip hop collective founded in 1993 in Whittier, California. Named after the tunnel rats in the Vietnam war, the mixed-gender, multi-racial collective consists of some seventeen individual members and incorporates four affiliated groups, LPG, Future Shock, Foundation, and New Breed, which have recorded both within Tunnel Rats and independently. Several members also formed two additional side-projects, Footsoldiers and The Resistance, which recorded one album in 2006 and collaborated with KRS-One. Pioneers in the Christian hip hop genre, Tunnel Rats often met with resistance from church leaders who disliked the collective\\'s aggressive style and felt that Tunnel Rats praised their rapping skills more than glorifying God. In the early 2000s, the East Coast group The Cross Movement likewise criticized Tunnel Rats, claiming it did not place enough emphasis on the Gospel. Due to a high number of Mexicans in the collective, Tunnel Rats also encountered racism when performing in the South. Despite these hardships, Tunnel Rats managed to garner critical acclaim and significantly impacted the Christian hip hop movement. The collective has released four albums, plus numerous additional recordings from its affiliated groups and individual members. Though currently on hiatus, Tunnel Rats has not disbanded, according to a statement by member Peace 586.\"], \\'response\\': \\'P.O.S, a member of Minneapolis hip hop collective Doomtree, released the album \"Audition\" in 2006.\\', \\'generation_model_name\\': \\'gpt-3.5-turbo-1106\\', \\'annotating_model_name\\': \\'gpt-4o\\', \\'dataset_name\\': \\'hotpotqa_test\\', \\'documents_sentences\\': [[[\\'0a\\', \\'Doomtree is an American hip hop collective and record label based in Minneapolis, Minnesota.\\'], [\\'0b\\', \\'The collective has seven members: Dessa, Cecil Otter, P.O.S, Sims, Mike Mictlan, Paper Tiger, and Lazerbeak.\\'], [\\'0c\\', \\'The collective is known for incorporating a wide range of musical influences into their work with lyrical complexity and wordplay, and their annual \"Doomtree Blowout\" events held in Minneapolis venues to showcase their group performances and the Twin Cities music scene.\\']], [[\\'1a\\', \\'Audition is the second studio album by P.O.S, a member of Minneapolis hip hop collective Doomtree.\\'], [\\'1b\\', \\'It was released in 2006 on Rhymesayers Entertainment.\\']], [[\\'2a\\', \\'Chill, Dummy (often stylized as Chill, dummy) is the fifth studio album by American hip hop artist P.O.S, a member of Minneapolis hip hop collective Doomtree.\\'], [\\'2b\\', \\'It was released January 27, 2017 on Doomtree Records, which is the first P.O.S solo album on the label released since \"Ipecac Neat\" in 2004.\\'], [\\'2c\\', \\'Guest appearances include Busdriver, Astronautalis, Open Mike Eagle and Justin Vernon, among others.\\']], [[\\'3a\\', \\'Tunnel Rats is a West Coast underground hip hop collective founded in 1993 in Whittier, California.\\'], [\\'3b\\', \\'Named after the tunnel rats in the Vietnam war, the mixed-gender, multi-racial collective consists of some seventeen individual members and incorporates four affiliated groups, LPG, Future Shock, Foundation, and New Breed, which have recorded both within Tunnel Rats and independently.\\'], [\\'3c\\', \\'Several members also formed two additional side-projects, Footsoldiers and The Resistance, which recorded one album in 2006 and collaborated with KRS-One.\\'], [\\'3d\\', \"Pioneers in the Christian hip hop genre, Tunnel Rats often met with resistance from church leaders who disliked the collective\\'s aggressive style and felt that Tunnel Rats praised their rapping skills more than glorifying God.\"], [\\'3e\\', \\'In the early 2000s, the East Coast group The Cross Movement likewise criticized Tunnel Rats, claiming it did not place enough emphasis on the Gospel.\\'], [\\'3f\\', \\'Due to a high number of Mexicans in the collective, Tunnel Rats also encountered racism when performing in the South.\\'], [\\'3g\\', \\'Despite these hardships, Tunnel Rats managed to garner critical acclaim and significantly impacted the Christian hip hop movement.\\'], [\\'3h\\', \\'The collective has released four albums, plus numerous additional recordings from its affiliated groups and individual members.\\'], [\\'3i\\', \\'Though currently on hiatus, Tunnel Rats has not disbanded, according to a statement by member Peace 586.\\']]], \\'response_sentences\\': [[\\'a\\', \\'P.O.S, a member of Minneapolis hip hop collective Doomtree, released the album \"Audition\" in 2006.\\']], \\'sentence_support_information\\': [{\\'explanation\\': \"This sentence is fully supported. Document 1 confirms that \\'Audition\\' was released by P.O.S, a member of Doomtree, in 2006.\", \\'fully_supported\\': True, \\'response_sentence_key\\': \\'a\\', \\'supporting_sentence_keys\\': [\\'0a\\', \\'1a\\', \\'1b\\']}], \\'unsupported_response_sentence_keys\\': [], \\'adherence_score\\': True, \\'overall_supported_explanation\\': \"The response is fully supported by the documents. Sentence \\'a.\\' states that P.O.S, a member of Doomtree, released the album \\'Audition\\' in 2006. Document 1a confirms that P.O.S is a member of Doomtree and that he released \\'Audition.\\' Document 1b provides the release year of the album as 2006.\", \\'relevance_explanation\\': \\'Documents 0 and 1 contain useful information for answering the question. Document 0 provides background on the hip hop collective Doomtree, and Document 1 provides specific information about the album released by a member of this collective in 2006.\\', \\'all_relevant_sentence_keys\\': [\\'0a\\', \\'0b\\', \\'1a\\', \\'1b\\'], \\'all_utilized_sentence_keys\\': [\\'0a\\', \\'1a\\', \\'1b\\'], \\'trulens_groundedness\\': 1.0, \\'trulens_context_relevance\\': 0.9, \\'ragas_faithfulness\\': 1.0, \\'ragas_context_relevance\\': 0.17647058823529413, \\'gpt3_adherence\\': 1.0, \\'gpt3_context_relevance\\': 0.11764705882352941, \\'gpt35_utilization\\': 0.11764705882352941, \\'relevance_score\\': 0.23529411764705882, \\'utilization_score\\': 0.17647058823529413, \\'completeness_score\\': 0.75, \\'contexts\\': [\\'Doomtree is an American hip hop collective and record label based in Minneapolis, Minnesota. The collective has seven members: Dessa, Cecil Otter, P.O.S, Sims, Mike Mictlan, Paper Tiger, and Lazerbeak. The collective is known for incorporating a wide range of musical influences into their work with lyrical complexity and wordplay, and their annual \"Doomtree Blowout\" events held in Minneapolis venues to showcase their group performances and the Twin Cities music scene.\\']}'}]\n"
     ]
    },
    {
     "name": "stderr",
     "output_type": "stream",
     "text": [
      "Map:  50%|█████     | 2/4 [00:06<00:05,  2.94s/ examples]"
     ]
    },
    {
     "name": "stdout",
     "output_type": "stream",
     "text": [
      "2024-12-07 20:56:15,033 - httpx - INFO - HTTP Request: POST https://api.openai.com/v1/embeddings \"HTTP/1.1 200 OK\"\n",
      "2024-12-07 20:56:15,240 - httpx - INFO - HTTP Request: POST https://api.openai.com/v1/embeddings \"HTTP/1.1 200 OK\"\n",
      "2024-12-07 20:56:15,500 - httpx - INFO - HTTP Request: POST https://api.openai.com/v1/embeddings \"HTTP/1.1 200 OK\"\n",
      "2024-12-07 20:56:15,668 - httpx - INFO - HTTP Request: POST https://api.openai.com/v1/embeddings \"HTTP/1.1 200 OK\"\n",
      "2024-12-07 20:56:15,909 - httpx - INFO - HTTP Request: POST https://api.openai.com/v1/embeddings \"HTTP/1.1 200 OK\"\n",
      "2024-12-07 20:56:16,089 - httpx - INFO - HTTP Request: POST https://api.openai.com/v1/embeddings \"HTTP/1.1 200 OK\"\n",
      "2024-12-07 20:56:16,200 - httpx - INFO - HTTP Request: POST https://api.openai.com/v1/embeddings \"HTTP/1.1 200 OK\"\n",
      "2024-12-07 20:56:16,600 - httpx - INFO - HTTP Request: POST https://api.openai.com/v1/embeddings \"HTTP/1.1 200 OK\"\n",
      "2024-12-07 20:56:17,004 - httpx - INFO - HTTP Request: POST https://api.openai.com/v1/chat/completions \"HTTP/1.1 200 OK\"\n",
      "2024-12-07 20:56:17,007 - camel.agents.chat_agent - INFO - Model gpt-4o-mini, index 0, processed these messages: [{'role': 'system', 'content': \"You are a helpful assistant to answer question,\\n         I will give you the Original Query and Retrieved Context,\\n        answer the Original Query based on the Retrieved Context,\\n        if you can't answer the question just say I don't know.\"}, {'role': 'user', 'content': '{\\'id\\': \\'5a7280105542994cef4bc2e4\\', \\'question\\': \\'Indie studio Jumpship developed what puzzle-platform video game released in July 2010?\\', \\'documents\\': [\\'Somerville is an upcoming video game and the debut title by the indie studio Jumpship. The studio\\\\\\'s founder previously founded Playdead and worked on \"Limbo\" and \"Inside\".\\', \\'The Lost Vikings is a puzzle-platform video game developed by Silicon & Synapse (now Blizzard Entertainment) and published by Interplay. It was originally released for the Super NES in 1992, then subsequently released for the Amiga, Amiga CD32, MS-DOS, and Mega Drive/Genesis systems the next year; the Mega Drive/Genesis version contains five stages not present in any other version of the game. Blizzard re-released the game for the Game Boy Advance in 2003. In 2014, the game was added to Battle.net as a free download emulated through DOSBox.\\', \\'Limbo is a puzzle-platform video game developed by independent studio Playdead. The game was released in July 2010 on Xbox Live Arcade, and has since been ported to several other systems, including the PlayStation 3 and Microsoft Windows. \"Limbo\" is a 2D side-scroller, incorporating a physics system that governs environmental objects and the player character. The player guides an unnamed boy through dangerous environments and traps as he searches for his sister. The developer built the game\\\\\\'s puzzles expecting the player to fail before finding the correct solution. Playdead called the style of play \"trial and death\", and used gruesome imagery for the boy\\\\\\'s deaths to steer the player from unworkable solutions.\\', \\'Black the Fall is an indie puzzle-platform video game developed by Sand Sailor Studio and published by Square Enix for Linux, Microsoft Windows, OS X, PlayStation 4, and Xbox One.\\'], \\'response\\': \\'Jumpship developed the puzzle-platform video game \"Limbo.\"\\', \\'generation_model_name\\': \\'gpt-3.5-turbo-1106\\', \\'annotating_model_name\\': \\'gpt-4o\\', \\'dataset_name\\': \\'hotpotqa_test\\', \\'documents_sentences\\': [[[\\'0a\\', \\'Somerville is an upcoming video game and the debut title by the indie studio Jumpship.\\'], [\\'0b\\', \\'The studio\\\\\\'s founder previously founded Playdead and worked on \"Limbo\" and \"Inside\".\\']], [[\\'1a\\', \\'The Lost Vikings is a puzzle-platform video game developed by Silicon & Synapse (now Blizzard Entertainment) and published by Interplay.\\'], [\\'1b\\', \\'It was originally released for the Super NES in 1992, then subsequently released for the Amiga, Amiga CD32, MS-DOS, and Mega Drive/Genesis systems the next year; the Mega Drive/Genesis version contains five stages not present in any other version of the game.\\'], [\\'1c\\', \\'Blizzard re-released the game for the Game Boy Advance in 2003.\\'], [\\'1d\\', \\'In 2014, the game was added to Battle.net as a free download emulated through DOSBox.\\']], [[\\'2a\\', \\'Limbo is a puzzle-platform video game developed by independent studio Playdead.\\'], [\\'2b\\', \\'The game was released in July 2010 on Xbox Live Arcade, and has since been ported to several other systems, including the PlayStation 3 and Microsoft Windows.\\'], [\\'2c\\', \\'\"Limbo\" is a 2D side-scroller, incorporating a physics system that governs environmental objects and the player character.\\'], [\\'2d\\', \\'The player guides an unnamed boy through dangerous environments and traps as he searches for his sister.\\'], [\\'2e\\', \"The developer built the game\\'s puzzles expecting the player to fail before finding the correct solution.\"], [\\'2f\\', \\'Playdead called the style of play \"trial and death\", and used gruesome imagery for the boy\\\\\\'s deaths to steer the player from unworkable solutions.\\']], [[\\'3a\\', \\'Black the Fall is an indie puzzle-platform video game developed by Sand Sailor Studio and published by Square Enix for Linux, Microsoft Windows, OS X, PlayStation 4, and Xbox One.\\']]], \\'response_sentences\\': [[\\'a\\', \\'Jumpship developed the puzzle-platform video game \"Limbo.\"\\']], \\'sentence_support_information\\': [{\\'explanation\\': \"This sentence is not supported by the documents because Document 0 indicates that Jumpship is developing \\'Somerville\\' and not \\'Limbo\\'. Document 2 clarifies that \\'Limbo\\' was developed by Playdead.\", \\'fully_supported\\': False, \\'response_sentence_key\\': \\'a\\', \\'supporting_sentence_keys\\': []}], \\'unsupported_response_sentence_keys\\': [\\'a\\'], \\'adherence_score\\': False, \\'overall_supported_explanation\\': \"The response claims that Jumpship developed the puzzle-platform video game \\'Limbo\\'. However, according to Document 0, Jumpship is the developer of an upcoming video game called Somerville, not \\'Limbo\\'. Document 2 states that \\'Limbo\\' was developed by Playdead. Therefore, the response is not supported by the documents.\", \\'relevance_explanation\\': \"Documents 0 and 2 contain useful information for answering the question. Document 0 provides information about the indie studio Jumpship and its debut title, while Document 2 discusses \\'Limbo\\', a puzzle-platform video game developed by Playdead, but not by Jumpship. Document 1 and Document 3 do not provide relevant information for answering the question.\", \\'all_relevant_sentence_keys\\': [\\'0a\\', \\'2a\\'], \\'all_utilized_sentence_keys\\': [], \\'trulens_groundedness\\': 0.0, \\'trulens_context_relevance\\': 0.9, \\'ragas_faithfulness\\': 0.0, \\'ragas_context_relevance\\': 0.0, \\'gpt3_adherence\\': 1.0, \\'gpt3_context_relevance\\': 0.23076923076923078, \\'gpt35_utilization\\': 0.23076923076923078, \\'relevance_score\\': 0.15384615384615385, \\'utilization_score\\': 0.0, \\'completeness_score\\': 0.0, \\'contexts\\': [\\'Somerville is an upcoming video game and the debut title by the indie studio Jumpship. The studio\\\\\\'s founder previously founded Playdead and worked on \"Limbo\" and \"Inside\".\\']}'}]\n"
     ]
    },
    {
     "name": "stderr",
     "output_type": "stream",
     "text": [
      "Map:  75%|███████▌  | 3/4 [00:08<00:02,  2.58s/ examples]"
     ]
    },
    {
     "name": "stdout",
     "output_type": "stream",
     "text": [
      "2024-12-07 20:56:17,416 - httpx - INFO - HTTP Request: POST https://api.openai.com/v1/embeddings \"HTTP/1.1 200 OK\"\n",
      "2024-12-07 20:56:17,599 - httpx - INFO - HTTP Request: POST https://api.openai.com/v1/embeddings \"HTTP/1.1 200 OK\"\n",
      "2024-12-07 20:56:17,792 - httpx - INFO - HTTP Request: POST https://api.openai.com/v1/embeddings \"HTTP/1.1 200 OK\"\n",
      "2024-12-07 20:56:17,942 - httpx - INFO - HTTP Request: POST https://api.openai.com/v1/embeddings \"HTTP/1.1 200 OK\"\n",
      "2024-12-07 20:56:18,235 - httpx - INFO - HTTP Request: POST https://api.openai.com/v1/embeddings \"HTTP/1.1 200 OK\"\n",
      "2024-12-07 20:56:18,418 - httpx - INFO - HTTP Request: POST https://api.openai.com/v1/embeddings \"HTTP/1.1 200 OK\"\n",
      "2024-12-07 20:56:18,850 - httpx - INFO - HTTP Request: POST https://api.openai.com/v1/embeddings \"HTTP/1.1 200 OK\"\n",
      "2024-12-07 20:56:19,045 - httpx - INFO - HTTP Request: POST https://api.openai.com/v1/embeddings \"HTTP/1.1 200 OK\"\n",
      "2024-12-07 20:56:19,696 - httpx - INFO - HTTP Request: POST https://api.openai.com/v1/chat/completions \"HTTP/1.1 200 OK\"\n",
      "2024-12-07 20:56:19,697 - camel.agents.chat_agent - INFO - Model gpt-4o-mini, index 0, processed these messages: [{'role': 'system', 'content': \"You are a helpful assistant to answer question,\\n         I will give you the Original Query and Retrieved Context,\\n        answer the Original Query based on the Retrieved Context,\\n        if you can't answer the question just say I don't know.\"}, {'role': 'user', 'content': '{\\'id\\': \\'5ae4083755429970de88d885\\', \\'question\\': \\'What stone cube, meaning \"stumbling stone\", was designed by an American public affairs campaigner?\\', \\'documents\\': [\\'A stolperstein (] from German, literally \"stumbling stone\", metaphorically a \"stumbling block\" or a stone to \"stumble upon\", plural stolpersteine) is a cobblestone-size (10x10 cm ) concrete cube bearing a brass plate inscribed with the name and life dates of victims of Nazi extermination or persecution. The \"stolperstein\" art project was initiated by the German artist Gunter Demnig in 1992, and is still ongoing. It aims at commemorating individual persons at exactly the last place of residency—or, sometimes, work—which was freely chosen by the person before he or she fell victim to Nazi terror, euthanasia, eugenics, was deported to a concentration or extermination camp, or escaped persecution by emigration or suicide. s of 31 2017 , over 56,000 \"stolpersteine\" have been laid in 22 European countries, making the \"stolperstein\" project the world\\\\\\'s largest decentralized memorial.\\', \\'Terry Swartzberg (born July 22, 1953 in Norwalk, Connecticut) is an American PA (public affairs) campaigner and journalist. He is based in Munich, Germany and contributed for 25 years to the International Herald Tribune and other international publications. He is especially known for his work for the holocaust memorial project Stolpersteine and for his “reality check” - since 2012 he has been wearing a kippah in public.\\', \\'Geoffrey S. Morrell (born November 1968) is an American public affairs official who served as Deputy Assistant Secretary of Defense for Public Affairs, and was the Press Secretary for the US Department of Defense. He was hired to the latter position in June 2007 and departed in July 2011 to join BP in September.\\', \\'The Assistant Secretary of State for Public Affairs is the head of the Bureau of Public Affairs within the United States Department of State. The Assistant Secretary of State for Public Affairs reports to the Secretary of State and the Under Secretary of State for Public Diplomacy and Public Affairs.\\'], \\'response\\': \\'The \"stolperstein\" or stumbling stone was designed by Terry Swartzberg, an American public affairs campaigner and journalist.\\', \\'generation_model_name\\': \\'gpt-3.5-turbo-1106\\', \\'annotating_model_name\\': \\'gpt-4o\\', \\'dataset_name\\': \\'hotpotqa_test\\', \\'documents_sentences\\': [[[\\'0a\\', \\'A stolperstein (] from German, literally \"stumbling stone\", metaphorically a \"stumbling block\" or a stone to \"stumble upon\", plural stolpersteine) is a cobblestone-size (10x10 cm ) concrete cube bearing a brass plate inscribed with the name and life dates of victims of Nazi extermination or persecution.\\'], [\\'0b\\', \\'The \"stolperstein\" art project was initiated by the German artist Gunter Demnig in 1992, and is still ongoing.\\'], [\\'0c\\', \\'It aims at commemorating individual persons at exactly the last place of residency—or, sometimes, work—which was freely chosen by the person before he or she fell victim to Nazi terror, euthanasia, eugenics, was deported to a concentration or extermination camp, or escaped persecution by emigration or suicide.\\'], [\\'0d\\', \\'s of 31 2017 , over 56,000 \"stolpersteine\" have been laid in 22 European countries, making the \"stolperstein\" project the world\\\\\\'s largest decentralized memorial.\\']], [[\\'1a\\', \\'Terry Swartzberg (born July 22, 1953 in Norwalk, Connecticut) is an American PA (public affairs) campaigner and journalist.\\'], [\\'1b\\', \\'He is based in Munich, Germany and contributed for 25 years to the International Herald Tribune and other international publications.\\'], [\\'1c\\', \\'He is especially known for his work for the holocaust memorial project Stolpersteine and for his “reality check” - since 2012 he has been wearing a kippah in public.\\']], [[\\'2a\\', \\'Geoffrey S. Morrell (born November 1968) is an American public affairs official who served as Deputy Assistant Secretary of Defense for Public Affairs, and was the Press Secretary for the US Department of Defense.\\'], [\\'2b\\', \\'He was hired to the latter position in June 2007 and departed in July 2011 to join BP in September.\\']], [[\\'3a\\', \\'The Assistant Secretary of State for Public Affairs is the head of the Bureau of Public Affairs within the United States Department of State.\\'], [\\'3b\\', \\'The Assistant Secretary of State for Public Affairs reports to the Secretary of State and the Under Secretary of State for Public Diplomacy and Public Affairs.\\']]], \\'response_sentences\\': [[\\'a\\', \\'The \"stolperstein\" or stumbling stone was designed by Terry Swartzberg, an American public affairs campaigner and journalist.\\']], \\'sentence_support_information\\': [{\\'explanation\\': \"The sentence claims that Terry Swartzberg, an American public affairs campaigner and journalist, designed the \\'stolperstein\\'. While Documents 0 and 1 provide information about the stolperstein and Swartzberg\\'s involvement, they do not state that he designed it. Document 0a gives details about the stolperstein, and Document 1a and 1c note Swartzberg\\'s professional details and involvement, but Document 0b attributes the creation of the project to Gunter Demnig, not Swartzberg.\", \\'fully_supported\\': False, \\'response_sentence_key\\': \\'a\\', \\'supporting_sentence_keys\\': []}], \\'unsupported_response_sentence_keys\\': [\\'a\\'], \\'adherence_score\\': False, \\'overall_supported_explanation\\': \"The response claims that the \\'stolperstein\\' was designed by Terry Swartzberg, an American public affairs campaigner and journalist. While Document 0 provides details about the \\'stolperstein\\' and Document 1 provides information about Terry Swartzberg\\'s involvement in the Stolpersteine project, there is no explicit statement in any of the documents that Terry Swartzberg designed the \\'stolperstein\\'. Therefore, the response is not fully supported by the provided documents.\", \\'relevance_explanation\\': \"Document 0 provides information about the \\'stolperstein\\' or stumbling stone, which is directly relevant to the question. Document 1 mentions Terry Swartzberg, who is identified as an American public affairs campaigner and journalist, and also notes his work with the stolperstein project. These two documents are necessary to answer the question by linking the \\'stolperstein\\' to an American public affairs campaigner.\", \\'all_relevant_sentence_keys\\': [\\'0a\\', \\'0b\\', \\'1a\\', \\'1c\\'], \\'all_utilized_sentence_keys\\': [], \\'trulens_groundedness\\': 0.0, \\'trulens_context_relevance\\': 0.8, \\'ragas_faithfulness\\': 0.0, \\'ragas_context_relevance\\': 0.0, \\'gpt3_adherence\\': 0.0, \\'gpt3_context_relevance\\': 0.2727272727272727, \\'gpt35_utilization\\': 0.18181818181818182, \\'relevance_score\\': 0.36363636363636365, \\'utilization_score\\': 0.0, \\'completeness_score\\': 0.0, \\'contexts\\': [\\'A stolperstein (] from German, literally \"stumbling stone\", metaphorically a \"stumbling block\" or a stone to \"stumble upon\", plural stolpersteine) is a cobblestone-size (10x10 cm ) concrete cube bearing a brass plate inscribed with the name and life dates of victims of Nazi extermination or persecution. The \"stolperstein\" art project was initiated by the German artist Gunter Demnig in 1992, and is still ongoing. It aims at commemorating individual persons at exactly the last place of\\']}'}]\n"
     ]
    },
    {
     "name": "stderr",
     "output_type": "stream",
     "text": [
      "Map: 100%|██████████| 4/4 [00:10<00:00,  2.75s/ examples]\n",
      "Evaluating:   0%|          | 0/8 [00:00<?, ?it/s]"
     ]
    },
    {
     "name": "stdout",
     "output_type": "stream",
     "text": [
      "2024-12-07 20:56:20,136 - httpx - INFO - HTTP Request: POST https://api.openai.com/v1/chat/completions \"HTTP/1.1 200 OK\"\n"
     ]
    },
    {
     "name": "stderr",
     "output_type": "stream",
     "text": [
      "Evaluating:  12%|█▎        | 1/8 [00:00<00:02,  2.88it/s]"
     ]
    },
    {
     "name": "stdout",
     "output_type": "stream",
     "text": [
      "2024-12-07 20:56:20,165 - httpx - INFO - HTTP Request: POST https://api.openai.com/v1/chat/completions \"HTTP/1.1 200 OK\"\n",
      "2024-12-07 20:56:20,287 - httpx - INFO - HTTP Request: POST https://api.openai.com/v1/chat/completions \"HTTP/1.1 200 OK\"\n"
     ]
    },
    {
     "name": "stderr",
     "output_type": "stream",
     "text": [
      "Evaluating:  38%|███▊      | 3/8 [00:00<00:00,  7.16it/s]"
     ]
    },
    {
     "name": "stdout",
     "output_type": "stream",
     "text": [
      "2024-12-07 20:56:20,441 - httpx - INFO - HTTP Request: POST https://api.openai.com/v1/chat/completions \"HTTP/1.1 200 OK\"\n",
      "2024-12-07 20:56:20,780 - httpx - INFO - HTTP Request: POST https://api.openai.com/v1/chat/completions \"HTTP/1.1 200 OK\"\n",
      "2024-12-07 20:56:20,801 - httpx - INFO - HTTP Request: POST https://api.openai.com/v1/chat/completions \"HTTP/1.1 200 OK\"\n"
     ]
    },
    {
     "name": "stderr",
     "output_type": "stream",
     "text": [
      "Evaluating:  50%|█████     | 4/8 [00:00<00:01,  3.72it/s]"
     ]
    },
    {
     "name": "stdout",
     "output_type": "stream",
     "text": [
      "2024-12-07 20:56:20,939 - httpx - INFO - HTTP Request: POST https://api.openai.com/v1/chat/completions \"HTTP/1.1 200 OK\"\n",
      "2024-12-07 20:56:21,414 - httpx - INFO - HTTP Request: POST https://api.openai.com/v1/chat/completions \"HTTP/1.1 200 OK\"\n",
      "2024-12-07 20:56:22,146 - httpx - INFO - HTTP Request: POST https://api.openai.com/v1/chat/completions \"HTTP/1.1 200 OK\"\n"
     ]
    },
    {
     "name": "stderr",
     "output_type": "stream",
     "text": [
      "Evaluating:  62%|██████▎   | 5/8 [00:02<00:01,  1.60it/s]"
     ]
    },
    {
     "name": "stdout",
     "output_type": "stream",
     "text": [
      "2024-12-07 20:56:22,188 - httpx - INFO - HTTP Request: POST https://api.openai.com/v1/chat/completions \"HTTP/1.1 200 OK\"\n",
      "2024-12-07 20:56:23,252 - httpx - INFO - HTTP Request: POST https://api.openai.com/v1/chat/completions \"HTTP/1.1 200 OK\"\n"
     ]
    },
    {
     "name": "stderr",
     "output_type": "stream",
     "text": [
      "Evaluating:  88%|████████▊ | 7/8 [00:03<00:00,  1.70it/s]"
     ]
    },
    {
     "name": "stdout",
     "output_type": "stream",
     "text": [
      "2024-12-07 20:56:23,546 - httpx - INFO - HTTP Request: POST https://api.openai.com/v1/chat/completions \"HTTP/1.1 200 OK\"\n"
     ]
    },
    {
     "name": "stderr",
     "output_type": "stream",
     "text": [
      "Evaluating: 100%|██████████| 8/8 [00:03<00:00,  2.14it/s]\n"
     ]
    },
    {
     "name": "stdout",
     "output_type": "stream",
     "text": [
      "Annotated Dataset:\n",
      "Dataset({\n",
      "    features: ['id', 'question', 'documents', 'response', 'generation_model_name', 'annotating_model_name', 'dataset_name', 'documents_sentences', 'response_sentences', 'sentence_support_information', 'unsupported_response_sentence_keys', 'adherence_score', 'overall_supported_explanation', 'relevance_explanation', 'all_relevant_sentence_keys', 'all_utilized_sentence_keys', 'trulens_groundedness', 'trulens_context_relevance', 'ragas_faithfulness', 'ragas_context_relevance', 'gpt3_adherence', 'gpt3_context_relevance', 'gpt35_utilization', 'relevance_score', 'utilization_score', 'completeness_score', 'contexts', 'answer'],\n",
      "    num_rows: 4\n",
      "})\n",
      "Evaluated Dataset:\n",
      "Dataset({\n",
      "    features: ['id', 'question', 'documents', 'response', 'generation_model_name', 'annotating_model_name', 'dataset_name', 'documents_sentences', 'response_sentences', 'sentence_support_information', 'unsupported_response_sentence_keys', 'adherence_score', 'overall_supported_explanation', 'relevance_explanation', 'all_relevant_sentence_keys', 'all_utilized_sentence_keys', 'trulens_groundedness', 'trulens_context_relevance', 'ragas_faithfulness', 'ragas_context_relevance', 'gpt3_adherence', 'gpt3_context_relevance', 'gpt35_utilization', 'relevance_score', 'utilization_score', 'completeness_score', 'contexts', 'answer', 'context_relevancy', 'faithfulness'],\n",
      "    num_rows: 4\n",
      "})\n",
      "Calculated Metrics:\n",
      "{'relevance_rmse': 0.21071692178021015, 'hallucination_auroc': 0.8333333333333333}\n"
     ]
    },
    {
     "name": "stderr",
     "output_type": "stream",
     "text": [
      "Map:   0%|          | 0/4 [00:00<?, ? examples/s]"
     ]
    },
    {
     "name": "stdout",
     "output_type": "stream",
     "text": [
      "2024-12-07 20:56:23,975 - httpx - INFO - HTTP Request: POST https://api.openai.com/v1/embeddings \"HTTP/1.1 200 OK\"\n",
      "2024-12-07 20:56:24,095 - httpx - INFO - HTTP Request: POST https://api.openai.com/v1/embeddings \"HTTP/1.1 200 OK\"\n",
      "2024-12-07 20:56:24,232 - httpx - INFO - HTTP Request: POST https://api.openai.com/v1/embeddings \"HTTP/1.1 200 OK\"\n",
      "2024-12-07 20:56:24,356 - httpx - INFO - HTTP Request: POST https://api.openai.com/v1/embeddings \"HTTP/1.1 200 OK\"\n",
      "2024-12-07 20:56:24,542 - httpx - INFO - HTTP Request: POST https://api.openai.com/v1/embeddings \"HTTP/1.1 200 OK\"\n",
      "2024-12-07 20:56:24,663 - httpx - INFO - HTTP Request: POST https://api.openai.com/v1/embeddings \"HTTP/1.1 200 OK\"\n",
      "2024-12-07 20:56:24,798 - httpx - INFO - HTTP Request: POST https://api.openai.com/v1/embeddings \"HTTP/1.1 200 OK\"\n",
      "2024-12-07 20:56:24,926 - httpx - INFO - HTTP Request: POST https://api.openai.com/v1/embeddings \"HTTP/1.1 200 OK\"\n",
      "2024-12-07 20:56:27,573 - httpx - INFO - HTTP Request: POST https://api.openai.com/v1/chat/completions \"HTTP/1.1 200 OK\"\n",
      "2024-12-07 20:56:27,575 - camel.agents.chat_agent - INFO - Model gpt-4o-mini, index 0, processed these messages: [{'role': 'system', 'content': \"You are a helpful assistant to answer question,\\n         I will give you the Original Query and Retrieved Context,\\n        answer the Original Query based on the Retrieved Context,\\n        if you can't answer the question just say I don't know.\"}, {'role': 'user', 'content': '{\\'id\\': \\'5a8d12ca5542994ba4e3dbe2\\', \\'question\\': \\'In what city is the company that Fastjet Tanzania was originally founded as a part of prior to rebranding based?\\', \\'documents\\': [\\'Christian Brothers College (CBC, St. Kilda) was founded in 1878 and is a Roman Catholic independent secondary college for boys. It is part of the Association of Edmund Rice schools. The school was originally founded by the Christian Brothers, the Brothers are no longer involved in the running the school. It is located in the Melbourne suburb of St Kilda East.\\', \\'Fastjet Airlines Limited (Tanzania), also known as Fastjet Tanzania, is a low-cost airline that operates flights under the fastjet brand in Tanzania. The airline was founded in 2011 as \"Fly540 Tanzania\", but through the acquisition of Fly540 in 2012, it was rebranded as Fastjet Tanzania. It is based in Dar es Salaam. The airline carried more than 350,000 passengers in the first year of operations and sold one million seats by December 2014.\\', \"The National Convention Party (NCP) is a political party in Gambia. It was the main opposition party between 1975 and 1994. It was originally founded on 7 September 1975 when it first launched at Busumbala by former vice-president Sheriff Mustapha Dibba two weeks after his expulsion from the People\\'s Progressive Party (PPP). It initially welcomed the 1994 coup but was banned from participating in elections in August 1994. Prior to the 1992 elections, the party faced a series of setbacks as many of its leaders rejoin the PPP. Its candidate at the presidential elections of 18 October 2001, Sheriff Dibba, came fourth with 3.77% of the popular vote.\", \\'Five Forty Aviation Ltd, trading as Fly540, is a low-cost airline which commenced operations in 2006 and is based in Nairobi, Kenya, that operates domestic and international passenger and freight services. The airline had two subsidiary airlines, Fly540 Ghana (suspended in May 2014 and since sold) and Fly540 Angola (suspended in May 2014), but has since focused its business expansion plans on East Africa.\\'], \\'response\\': \\'The company that Fastjet Tanzania was originally founded as a part of prior to rebranding is based in Dar es Salaam, Tanzania.\\', \\'generation_model_name\\': \\'gpt-3.5-turbo-1106\\', \\'annotating_model_name\\': \\'gpt-4o\\', \\'dataset_name\\': \\'hotpotqa_test\\', \\'documents_sentences\\': [[[\\'0a\\', \\'Christian Brothers College (CBC, St. Kilda) was founded in 1878 and is a Roman Catholic independent secondary college for boys.\\'], [\\'0b\\', \\'It is part of the Association of Edmund Rice schools.\\'], [\\'0c\\', \\'The school was originally founded by the Christian Brothers, the Brothers are no longer involved in the running the school.\\'], [\\'0d\\', \\'It is located in the Melbourne suburb of St Kilda East.\\']], [[\\'1a\\', \\'Fastjet Airlines Limited (Tanzania), also known as Fastjet Tanzania, is a low-cost airline that operates flights under the fastjet brand in Tanzania.\\'], [\\'1b\\', \\'The airline was founded in 2011 as \"Fly540 Tanzania\", but through the acquisition of Fly540 in 2012, it was rebranded as Fastjet Tanzania.\\'], [\\'1c\\', \\'It is based in Dar es Salaam.\\'], [\\'1d\\', \\'The airline carried more than 350,000 passengers in the first year of operations and sold one million seats by December 2014.\\']], [[\\'2a\\', \\'The National Convention Party (NCP) is a political party in Gambia.\\'], [\\'2b\\', \\'It was the main opposition party between 1975 and 1994.\\'], [\\'2c\\', \"It was originally founded on 7 September 1975 when it first launched at Busumbala by former vice-president Sheriff Mustapha Dibba two weeks after his expulsion from the People\\'s Progressive Party (PPP).\"], [\\'2d\\', \\'It initially welcomed the 1994 coup but was banned from participating in elections in August 1994.\\'], [\\'2e\\', \\'Prior to the 1992 elections, the party faced a series of setbacks as many of its leaders rejoin the PPP.\\'], [\\'2f\\', \\'Its candidate at the presidential elections of 18 October 2001, Sheriff Dibba, came fourth with 3.77% of the popular vote.\\']], [[\\'3a\\', \\'Five Forty Aviation Ltd, trading as Fly540, is a low-cost airline which commenced operations in 2006 and is based in Nairobi, Kenya, that operates domestic and international passenger and freight services.\\'], [\\'3b\\', \\'The airline had two subsidiary airlines, Fly540 Ghana (suspended in May 2014 and since sold) and Fly540 Angola (suspended in May 2014), but has since focused its business expansion plans on East Africa.\\']]], \\'response_sentences\\': [[\\'a\\', \\'The company that Fastjet Tanzania was originally founded as a part of prior to rebranding is based in Dar es Salaam, Tanzania.\\']], \\'sentence_support_information\\': [{\\'explanation\\': \"Document 1 supports the claim that Fastjet Tanzania was originally founded as \\'Fly540 Tanzania.\\' However, Document 3 indicates that Fly540 was based in Nairobi, Kenya, not Dar es Salaam, Tanzania.\", \\'fully_supported\\': False, \\'response_sentence_key\\': \\'a\\', \\'supporting_sentence_keys\\': []}], \\'unsupported_response_sentence_keys\\': [\\'a\\'], \\'adherence_score\\': False, \\'overall_supported_explanation\\': \"The response sentence claims that Fastjet Tanzania was originally founded as \\'Fly540 Tanzania\\' and that the company was based in Dar es Salaam, Tanzania. Document 1 states that Fastjet Tanzania was originally Fly540 Tanzania and Document 3 provides information that Fly540 is based in Nairobi, Kenya. Thus, while the foundation and original name of the company are correct, the claim about the company being based in Dar es Salaam is incorrect. Therefore, the response as a whole is not supported by the documents.\", \\'relevance_explanation\\': \\'Document 1 contains useful information about Fastjet Tanzania, specifically its foundation and rebranding. Document 3 provides information about Fly540, the airline that Fastjet Tanzania was originally known as, including its base location in Nairobi. Therefore, these documents are relevant to answering the question of the city where the company that Fastjet Tanzania was originally founded as is based.\\', \\'all_relevant_sentence_keys\\': [\\'1a\\', \\'1b\\', \\'3a\\'], \\'all_utilized_sentence_keys\\': [\\'1b\\', \\'3a\\'], \\'trulens_groundedness\\': 0.0, \\'trulens_context_relevance\\': 0.9, \\'ragas_faithfulness\\': 1.0, \\'ragas_context_relevance\\': 0.1875, \\'gpt3_adherence\\': 1.0, \\'gpt3_context_relevance\\': 0.1875, \\'gpt35_utilization\\': 0.1875, \\'relevance_score\\': 0.1875, \\'utilization_score\\': 0.125, \\'completeness_score\\': 0.6666666666666666, \\'contexts\\': [\\'Fastjet Airlines Limited (Tanzania), also known as Fastjet Tanzania, is a low-cost airline that operates flights under the fastjet brand in Tanzania. The airline was founded in 2011 as \"Fly540 Tanzania\", but through the acquisition of Fly540 in 2012, it was rebranded as Fastjet Tanzania. It is based in Dar es Salaam. The airline carried more than 350,000 passengers in the first year of operations and sold one million seats by December 2014.\\']}'}]\n"
     ]
    },
    {
     "name": "stderr",
     "output_type": "stream",
     "text": [
      "Map:  25%|██▌       | 1/4 [00:03<00:11,  3.80s/ examples]"
     ]
    },
    {
     "name": "stdout",
     "output_type": "stream",
     "text": [
      "2024-12-07 20:56:27,797 - httpx - INFO - HTTP Request: POST https://api.openai.com/v1/embeddings \"HTTP/1.1 200 OK\"\n",
      "2024-12-07 20:56:27,949 - httpx - INFO - HTTP Request: POST https://api.openai.com/v1/embeddings \"HTTP/1.1 200 OK\"\n",
      "2024-12-07 20:56:28,269 - httpx - INFO - HTTP Request: POST https://api.openai.com/v1/embeddings \"HTTP/1.1 200 OK\"\n",
      "2024-12-07 20:56:28,394 - httpx - INFO - HTTP Request: POST https://api.openai.com/v1/embeddings \"HTTP/1.1 200 OK\"\n",
      "2024-12-07 20:56:28,640 - httpx - INFO - HTTP Request: POST https://api.openai.com/v1/embeddings \"HTTP/1.1 200 OK\"\n",
      "2024-12-07 20:56:28,767 - httpx - INFO - HTTP Request: POST https://api.openai.com/v1/embeddings \"HTTP/1.1 200 OK\"\n",
      "2024-12-07 20:56:28,943 - httpx - INFO - HTTP Request: POST https://api.openai.com/v1/embeddings \"HTTP/1.1 200 OK\"\n",
      "2024-12-07 20:56:29,191 - httpx - INFO - HTTP Request: POST https://api.openai.com/v1/embeddings \"HTTP/1.1 200 OK\"\n",
      "2024-12-07 20:56:29,906 - httpx - INFO - HTTP Request: POST https://api.openai.com/v1/chat/completions \"HTTP/1.1 200 OK\"\n",
      "2024-12-07 20:56:29,908 - camel.agents.chat_agent - INFO - Model gpt-4o-mini, index 0, processed these messages: [{'role': 'system', 'content': \"You are a helpful assistant to answer question,\\n         I will give you the Original Query and Retrieved Context,\\n        answer the Original Query based on the Retrieved Context,\\n        if you can't answer the question just say I don't know.\"}, {'role': 'user', 'content': '{\\'id\\': \\'5aba749855429955dce3ee34\\', \\'question\\': \\'Minneapolis hip hop collective member that released album in 2006?\\', \\'documents\\': [\\'Doomtree is an American hip hop collective and record label based in Minneapolis, Minnesota. The collective has seven members: Dessa, Cecil Otter, P.O.S, Sims, Mike Mictlan, Paper Tiger, and Lazerbeak. The collective is known for incorporating a wide range of musical influences into their work with lyrical complexity and wordplay, and their annual \"Doomtree Blowout\" events held in Minneapolis venues to showcase their group performances and the Twin Cities music scene.\\', \\'Audition is the second studio album by P.O.S, a member of Minneapolis hip hop collective Doomtree. It was released in 2006 on Rhymesayers Entertainment.\\', \\'Chill, Dummy (often stylized as Chill, dummy) is the fifth studio album by American hip hop artist P.O.S, a member of Minneapolis hip hop collective Doomtree. It was released January 27, 2017 on Doomtree Records, which is the first P.O.S solo album on the label released since \"Ipecac Neat\" in 2004. Guest appearances include Busdriver, Astronautalis, Open Mike Eagle and Justin Vernon, among others.\\', \"Tunnel Rats is a West Coast underground hip hop collective founded in 1993 in Whittier, California. Named after the tunnel rats in the Vietnam war, the mixed-gender, multi-racial collective consists of some seventeen individual members and incorporates four affiliated groups, LPG, Future Shock, Foundation, and New Breed, which have recorded both within Tunnel Rats and independently. Several members also formed two additional side-projects, Footsoldiers and The Resistance, which recorded one album in 2006 and collaborated with KRS-One. Pioneers in the Christian hip hop genre, Tunnel Rats often met with resistance from church leaders who disliked the collective\\'s aggressive style and felt that Tunnel Rats praised their rapping skills more than glorifying God. In the early 2000s, the East Coast group The Cross Movement likewise criticized Tunnel Rats, claiming it did not place enough emphasis on the Gospel. Due to a high number of Mexicans in the collective, Tunnel Rats also encountered racism when performing in the South. Despite these hardships, Tunnel Rats managed to garner critical acclaim and significantly impacted the Christian hip hop movement. The collective has released four albums, plus numerous additional recordings from its affiliated groups and individual members. Though currently on hiatus, Tunnel Rats has not disbanded, according to a statement by member Peace 586.\"], \\'response\\': \\'P.O.S, a member of Minneapolis hip hop collective Doomtree, released the album \"Audition\" in 2006.\\', \\'generation_model_name\\': \\'gpt-3.5-turbo-1106\\', \\'annotating_model_name\\': \\'gpt-4o\\', \\'dataset_name\\': \\'hotpotqa_test\\', \\'documents_sentences\\': [[[\\'0a\\', \\'Doomtree is an American hip hop collective and record label based in Minneapolis, Minnesota.\\'], [\\'0b\\', \\'The collective has seven members: Dessa, Cecil Otter, P.O.S, Sims, Mike Mictlan, Paper Tiger, and Lazerbeak.\\'], [\\'0c\\', \\'The collective is known for incorporating a wide range of musical influences into their work with lyrical complexity and wordplay, and their annual \"Doomtree Blowout\" events held in Minneapolis venues to showcase their group performances and the Twin Cities music scene.\\']], [[\\'1a\\', \\'Audition is the second studio album by P.O.S, a member of Minneapolis hip hop collective Doomtree.\\'], [\\'1b\\', \\'It was released in 2006 on Rhymesayers Entertainment.\\']], [[\\'2a\\', \\'Chill, Dummy (often stylized as Chill, dummy) is the fifth studio album by American hip hop artist P.O.S, a member of Minneapolis hip hop collective Doomtree.\\'], [\\'2b\\', \\'It was released January 27, 2017 on Doomtree Records, which is the first P.O.S solo album on the label released since \"Ipecac Neat\" in 2004.\\'], [\\'2c\\', \\'Guest appearances include Busdriver, Astronautalis, Open Mike Eagle and Justin Vernon, among others.\\']], [[\\'3a\\', \\'Tunnel Rats is a West Coast underground hip hop collective founded in 1993 in Whittier, California.\\'], [\\'3b\\', \\'Named after the tunnel rats in the Vietnam war, the mixed-gender, multi-racial collective consists of some seventeen individual members and incorporates four affiliated groups, LPG, Future Shock, Foundation, and New Breed, which have recorded both within Tunnel Rats and independently.\\'], [\\'3c\\', \\'Several members also formed two additional side-projects, Footsoldiers and The Resistance, which recorded one album in 2006 and collaborated with KRS-One.\\'], [\\'3d\\', \"Pioneers in the Christian hip hop genre, Tunnel Rats often met with resistance from church leaders who disliked the collective\\'s aggressive style and felt that Tunnel Rats praised their rapping skills more than glorifying God.\"], [\\'3e\\', \\'In the early 2000s, the East Coast group The Cross Movement likewise criticized Tunnel Rats, claiming it did not place enough emphasis on the Gospel.\\'], [\\'3f\\', \\'Due to a high number of Mexicans in the collective, Tunnel Rats also encountered racism when performing in the South.\\'], [\\'3g\\', \\'Despite these hardships, Tunnel Rats managed to garner critical acclaim and significantly impacted the Christian hip hop movement.\\'], [\\'3h\\', \\'The collective has released four albums, plus numerous additional recordings from its affiliated groups and individual members.\\'], [\\'3i\\', \\'Though currently on hiatus, Tunnel Rats has not disbanded, according to a statement by member Peace 586.\\']]], \\'response_sentences\\': [[\\'a\\', \\'P.O.S, a member of Minneapolis hip hop collective Doomtree, released the album \"Audition\" in 2006.\\']], \\'sentence_support_information\\': [{\\'explanation\\': \"This sentence is fully supported. Document 1 confirms that \\'Audition\\' was released by P.O.S, a member of Doomtree, in 2006.\", \\'fully_supported\\': True, \\'response_sentence_key\\': \\'a\\', \\'supporting_sentence_keys\\': [\\'0a\\', \\'1a\\', \\'1b\\']}], \\'unsupported_response_sentence_keys\\': [], \\'adherence_score\\': True, \\'overall_supported_explanation\\': \"The response is fully supported by the documents. Sentence \\'a.\\' states that P.O.S, a member of Doomtree, released the album \\'Audition\\' in 2006. Document 1a confirms that P.O.S is a member of Doomtree and that he released \\'Audition.\\' Document 1b provides the release year of the album as 2006.\", \\'relevance_explanation\\': \\'Documents 0 and 1 contain useful information for answering the question. Document 0 provides background on the hip hop collective Doomtree, and Document 1 provides specific information about the album released by a member of this collective in 2006.\\', \\'all_relevant_sentence_keys\\': [\\'0a\\', \\'0b\\', \\'1a\\', \\'1b\\'], \\'all_utilized_sentence_keys\\': [\\'0a\\', \\'1a\\', \\'1b\\'], \\'trulens_groundedness\\': 1.0, \\'trulens_context_relevance\\': 0.9, \\'ragas_faithfulness\\': 1.0, \\'ragas_context_relevance\\': 0.17647058823529413, \\'gpt3_adherence\\': 1.0, \\'gpt3_context_relevance\\': 0.11764705882352941, \\'gpt35_utilization\\': 0.11764705882352941, \\'relevance_score\\': 0.23529411764705882, \\'utilization_score\\': 0.17647058823529413, \\'completeness_score\\': 0.75, \\'contexts\\': [\\'Doomtree is an American hip hop collective and record label based in Minneapolis, Minnesota. The collective has seven members: Dessa, Cecil Otter, P.O.S, Sims, Mike Mictlan, Paper Tiger, and Lazerbeak. The collective is known for incorporating a wide range of musical influences into their work with lyrical complexity and wordplay, and their annual \"Doomtree Blowout\" events held in Minneapolis venues to showcase their group performances and the Twin Cities music scene.\\']}'}]\n"
     ]
    },
    {
     "name": "stderr",
     "output_type": "stream",
     "text": [
      "Map:  50%|█████     | 2/4 [00:06<00:05,  2.94s/ examples]"
     ]
    },
    {
     "name": "stdout",
     "output_type": "stream",
     "text": [
      "2024-12-07 20:56:30,316 - httpx - INFO - HTTP Request: POST https://api.openai.com/v1/embeddings \"HTTP/1.1 200 OK\"\n",
      "2024-12-07 20:56:30,473 - httpx - INFO - HTTP Request: POST https://api.openai.com/v1/embeddings \"HTTP/1.1 200 OK\"\n",
      "2024-12-07 20:56:30,832 - httpx - INFO - HTTP Request: POST https://api.openai.com/v1/embeddings \"HTTP/1.1 200 OK\"\n",
      "2024-12-07 20:56:30,980 - httpx - INFO - HTTP Request: POST https://api.openai.com/v1/embeddings \"HTTP/1.1 200 OK\"\n",
      "2024-12-07 20:56:31,191 - httpx - INFO - HTTP Request: POST https://api.openai.com/v1/embeddings \"HTTP/1.1 200 OK\"\n",
      "2024-12-07 20:56:31,415 - httpx - INFO - HTTP Request: POST https://api.openai.com/v1/embeddings \"HTTP/1.1 200 OK\"\n",
      "2024-12-07 20:56:31,675 - httpx - INFO - HTTP Request: POST https://api.openai.com/v1/embeddings \"HTTP/1.1 200 OK\"\n",
      "2024-12-07 20:56:31,993 - httpx - INFO - HTTP Request: POST https://api.openai.com/v1/embeddings \"HTTP/1.1 200 OK\"\n",
      "2024-12-07 20:56:32,423 - httpx - INFO - HTTP Request: POST https://api.openai.com/v1/chat/completions \"HTTP/1.1 200 OK\"\n",
      "2024-12-07 20:56:32,428 - camel.agents.chat_agent - INFO - Model gpt-4o-mini, index 0, processed these messages: [{'role': 'system', 'content': \"You are a helpful assistant to answer question,\\n         I will give you the Original Query and Retrieved Context,\\n        answer the Original Query based on the Retrieved Context,\\n        if you can't answer the question just say I don't know.\"}, {'role': 'user', 'content': '{\\'id\\': \\'5a7280105542994cef4bc2e4\\', \\'question\\': \\'Indie studio Jumpship developed what puzzle-platform video game released in July 2010?\\', \\'documents\\': [\\'Somerville is an upcoming video game and the debut title by the indie studio Jumpship. The studio\\\\\\'s founder previously founded Playdead and worked on \"Limbo\" and \"Inside\".\\', \\'The Lost Vikings is a puzzle-platform video game developed by Silicon & Synapse (now Blizzard Entertainment) and published by Interplay. It was originally released for the Super NES in 1992, then subsequently released for the Amiga, Amiga CD32, MS-DOS, and Mega Drive/Genesis systems the next year; the Mega Drive/Genesis version contains five stages not present in any other version of the game. Blizzard re-released the game for the Game Boy Advance in 2003. In 2014, the game was added to Battle.net as a free download emulated through DOSBox.\\', \\'Limbo is a puzzle-platform video game developed by independent studio Playdead. The game was released in July 2010 on Xbox Live Arcade, and has since been ported to several other systems, including the PlayStation 3 and Microsoft Windows. \"Limbo\" is a 2D side-scroller, incorporating a physics system that governs environmental objects and the player character. The player guides an unnamed boy through dangerous environments and traps as he searches for his sister. The developer built the game\\\\\\'s puzzles expecting the player to fail before finding the correct solution. Playdead called the style of play \"trial and death\", and used gruesome imagery for the boy\\\\\\'s deaths to steer the player from unworkable solutions.\\', \\'Black the Fall is an indie puzzle-platform video game developed by Sand Sailor Studio and published by Square Enix for Linux, Microsoft Windows, OS X, PlayStation 4, and Xbox One.\\'], \\'response\\': \\'Jumpship developed the puzzle-platform video game \"Limbo.\"\\', \\'generation_model_name\\': \\'gpt-3.5-turbo-1106\\', \\'annotating_model_name\\': \\'gpt-4o\\', \\'dataset_name\\': \\'hotpotqa_test\\', \\'documents_sentences\\': [[[\\'0a\\', \\'Somerville is an upcoming video game and the debut title by the indie studio Jumpship.\\'], [\\'0b\\', \\'The studio\\\\\\'s founder previously founded Playdead and worked on \"Limbo\" and \"Inside\".\\']], [[\\'1a\\', \\'The Lost Vikings is a puzzle-platform video game developed by Silicon & Synapse (now Blizzard Entertainment) and published by Interplay.\\'], [\\'1b\\', \\'It was originally released for the Super NES in 1992, then subsequently released for the Amiga, Amiga CD32, MS-DOS, and Mega Drive/Genesis systems the next year; the Mega Drive/Genesis version contains five stages not present in any other version of the game.\\'], [\\'1c\\', \\'Blizzard re-released the game for the Game Boy Advance in 2003.\\'], [\\'1d\\', \\'In 2014, the game was added to Battle.net as a free download emulated through DOSBox.\\']], [[\\'2a\\', \\'Limbo is a puzzle-platform video game developed by independent studio Playdead.\\'], [\\'2b\\', \\'The game was released in July 2010 on Xbox Live Arcade, and has since been ported to several other systems, including the PlayStation 3 and Microsoft Windows.\\'], [\\'2c\\', \\'\"Limbo\" is a 2D side-scroller, incorporating a physics system that governs environmental objects and the player character.\\'], [\\'2d\\', \\'The player guides an unnamed boy through dangerous environments and traps as he searches for his sister.\\'], [\\'2e\\', \"The developer built the game\\'s puzzles expecting the player to fail before finding the correct solution.\"], [\\'2f\\', \\'Playdead called the style of play \"trial and death\", and used gruesome imagery for the boy\\\\\\'s deaths to steer the player from unworkable solutions.\\']], [[\\'3a\\', \\'Black the Fall is an indie puzzle-platform video game developed by Sand Sailor Studio and published by Square Enix for Linux, Microsoft Windows, OS X, PlayStation 4, and Xbox One.\\']]], \\'response_sentences\\': [[\\'a\\', \\'Jumpship developed the puzzle-platform video game \"Limbo.\"\\']], \\'sentence_support_information\\': [{\\'explanation\\': \"This sentence is not supported by the documents because Document 0 indicates that Jumpship is developing \\'Somerville\\' and not \\'Limbo\\'. Document 2 clarifies that \\'Limbo\\' was developed by Playdead.\", \\'fully_supported\\': False, \\'response_sentence_key\\': \\'a\\', \\'supporting_sentence_keys\\': []}], \\'unsupported_response_sentence_keys\\': [\\'a\\'], \\'adherence_score\\': False, \\'overall_supported_explanation\\': \"The response claims that Jumpship developed the puzzle-platform video game \\'Limbo\\'. However, according to Document 0, Jumpship is the developer of an upcoming video game called Somerville, not \\'Limbo\\'. Document 2 states that \\'Limbo\\' was developed by Playdead. Therefore, the response is not supported by the documents.\", \\'relevance_explanation\\': \"Documents 0 and 2 contain useful information for answering the question. Document 0 provides information about the indie studio Jumpship and its debut title, while Document 2 discusses \\'Limbo\\', a puzzle-platform video game developed by Playdead, but not by Jumpship. Document 1 and Document 3 do not provide relevant information for answering the question.\", \\'all_relevant_sentence_keys\\': [\\'0a\\', \\'2a\\'], \\'all_utilized_sentence_keys\\': [], \\'trulens_groundedness\\': 0.0, \\'trulens_context_relevance\\': 0.9, \\'ragas_faithfulness\\': 0.0, \\'ragas_context_relevance\\': 0.0, \\'gpt3_adherence\\': 1.0, \\'gpt3_context_relevance\\': 0.23076923076923078, \\'gpt35_utilization\\': 0.23076923076923078, \\'relevance_score\\': 0.15384615384615385, \\'utilization_score\\': 0.0, \\'completeness_score\\': 0.0, \\'contexts\\': [\\'Somerville is an upcoming video game and the debut title by the indie studio Jumpship. The studio\\\\\\'s founder previously founded Playdead and worked on \"Limbo\" and \"Inside\".\\']}'}]\n"
     ]
    },
    {
     "name": "stderr",
     "output_type": "stream",
     "text": [
      "Map:  75%|███████▌  | 3/4 [00:08<00:02,  2.75s/ examples]"
     ]
    },
    {
     "name": "stdout",
     "output_type": "stream",
     "text": [
      "2024-12-07 20:56:32,878 - httpx - INFO - HTTP Request: POST https://api.openai.com/v1/embeddings \"HTTP/1.1 200 OK\"\n",
      "2024-12-07 20:56:33,069 - httpx - INFO - HTTP Request: POST https://api.openai.com/v1/embeddings \"HTTP/1.1 200 OK\"\n",
      "2024-12-07 20:56:33,388 - httpx - INFO - HTTP Request: POST https://api.openai.com/v1/embeddings \"HTTP/1.1 200 OK\"\n",
      "2024-12-07 20:56:33,655 - httpx - INFO - HTTP Request: POST https://api.openai.com/v1/embeddings \"HTTP/1.1 200 OK\"\n",
      "2024-12-07 20:56:34,003 - httpx - INFO - HTTP Request: POST https://api.openai.com/v1/embeddings \"HTTP/1.1 200 OK\"\n",
      "2024-12-07 20:56:34,219 - httpx - INFO - HTTP Request: POST https://api.openai.com/v1/embeddings \"HTTP/1.1 200 OK\"\n",
      "2024-12-07 20:56:34,588 - httpx - INFO - HTTP Request: POST https://api.openai.com/v1/embeddings \"HTTP/1.1 200 OK\"\n",
      "2024-12-07 20:56:34,718 - httpx - INFO - HTTP Request: POST https://api.openai.com/v1/embeddings \"HTTP/1.1 200 OK\"\n",
      "2024-12-07 20:56:35,045 - httpx - INFO - HTTP Request: POST https://api.openai.com/v1/chat/completions \"HTTP/1.1 200 OK\"\n",
      "2024-12-07 20:56:35,047 - camel.agents.chat_agent - INFO - Model gpt-4o-mini, index 0, processed these messages: [{'role': 'system', 'content': \"You are a helpful assistant to answer question,\\n         I will give you the Original Query and Retrieved Context,\\n        answer the Original Query based on the Retrieved Context,\\n        if you can't answer the question just say I don't know.\"}, {'role': 'user', 'content': '{\\'id\\': \\'5ae4083755429970de88d885\\', \\'question\\': \\'What stone cube, meaning \"stumbling stone\", was designed by an American public affairs campaigner?\\', \\'documents\\': [\\'A stolperstein (] from German, literally \"stumbling stone\", metaphorically a \"stumbling block\" or a stone to \"stumble upon\", plural stolpersteine) is a cobblestone-size (10x10 cm ) concrete cube bearing a brass plate inscribed with the name and life dates of victims of Nazi extermination or persecution. The \"stolperstein\" art project was initiated by the German artist Gunter Demnig in 1992, and is still ongoing. It aims at commemorating individual persons at exactly the last place of residency—or, sometimes, work—which was freely chosen by the person before he or she fell victim to Nazi terror, euthanasia, eugenics, was deported to a concentration or extermination camp, or escaped persecution by emigration or suicide. s of 31 2017 , over 56,000 \"stolpersteine\" have been laid in 22 European countries, making the \"stolperstein\" project the world\\\\\\'s largest decentralized memorial.\\', \\'Terry Swartzberg (born July 22, 1953 in Norwalk, Connecticut) is an American PA (public affairs) campaigner and journalist. He is based in Munich, Germany and contributed for 25 years to the International Herald Tribune and other international publications. He is especially known for his work for the holocaust memorial project Stolpersteine and for his “reality check” - since 2012 he has been wearing a kippah in public.\\', \\'Geoffrey S. Morrell (born November 1968) is an American public affairs official who served as Deputy Assistant Secretary of Defense for Public Affairs, and was the Press Secretary for the US Department of Defense. He was hired to the latter position in June 2007 and departed in July 2011 to join BP in September.\\', \\'The Assistant Secretary of State for Public Affairs is the head of the Bureau of Public Affairs within the United States Department of State. The Assistant Secretary of State for Public Affairs reports to the Secretary of State and the Under Secretary of State for Public Diplomacy and Public Affairs.\\'], \\'response\\': \\'The \"stolperstein\" or stumbling stone was designed by Terry Swartzberg, an American public affairs campaigner and journalist.\\', \\'generation_model_name\\': \\'gpt-3.5-turbo-1106\\', \\'annotating_model_name\\': \\'gpt-4o\\', \\'dataset_name\\': \\'hotpotqa_test\\', \\'documents_sentences\\': [[[\\'0a\\', \\'A stolperstein (] from German, literally \"stumbling stone\", metaphorically a \"stumbling block\" or a stone to \"stumble upon\", plural stolpersteine) is a cobblestone-size (10x10 cm ) concrete cube bearing a brass plate inscribed with the name and life dates of victims of Nazi extermination or persecution.\\'], [\\'0b\\', \\'The \"stolperstein\" art project was initiated by the German artist Gunter Demnig in 1992, and is still ongoing.\\'], [\\'0c\\', \\'It aims at commemorating individual persons at exactly the last place of residency—or, sometimes, work—which was freely chosen by the person before he or she fell victim to Nazi terror, euthanasia, eugenics, was deported to a concentration or extermination camp, or escaped persecution by emigration or suicide.\\'], [\\'0d\\', \\'s of 31 2017 , over 56,000 \"stolpersteine\" have been laid in 22 European countries, making the \"stolperstein\" project the world\\\\\\'s largest decentralized memorial.\\']], [[\\'1a\\', \\'Terry Swartzberg (born July 22, 1953 in Norwalk, Connecticut) is an American PA (public affairs) campaigner and journalist.\\'], [\\'1b\\', \\'He is based in Munich, Germany and contributed for 25 years to the International Herald Tribune and other international publications.\\'], [\\'1c\\', \\'He is especially known for his work for the holocaust memorial project Stolpersteine and for his “reality check” - since 2012 he has been wearing a kippah in public.\\']], [[\\'2a\\', \\'Geoffrey S. Morrell (born November 1968) is an American public affairs official who served as Deputy Assistant Secretary of Defense for Public Affairs, and was the Press Secretary for the US Department of Defense.\\'], [\\'2b\\', \\'He was hired to the latter position in June 2007 and departed in July 2011 to join BP in September.\\']], [[\\'3a\\', \\'The Assistant Secretary of State for Public Affairs is the head of the Bureau of Public Affairs within the United States Department of State.\\'], [\\'3b\\', \\'The Assistant Secretary of State for Public Affairs reports to the Secretary of State and the Under Secretary of State for Public Diplomacy and Public Affairs.\\']]], \\'response_sentences\\': [[\\'a\\', \\'The \"stolperstein\" or stumbling stone was designed by Terry Swartzberg, an American public affairs campaigner and journalist.\\']], \\'sentence_support_information\\': [{\\'explanation\\': \"The sentence claims that Terry Swartzberg, an American public affairs campaigner and journalist, designed the \\'stolperstein\\'. While Documents 0 and 1 provide information about the stolperstein and Swartzberg\\'s involvement, they do not state that he designed it. Document 0a gives details about the stolperstein, and Document 1a and 1c note Swartzberg\\'s professional details and involvement, but Document 0b attributes the creation of the project to Gunter Demnig, not Swartzberg.\", \\'fully_supported\\': False, \\'response_sentence_key\\': \\'a\\', \\'supporting_sentence_keys\\': []}], \\'unsupported_response_sentence_keys\\': [\\'a\\'], \\'adherence_score\\': False, \\'overall_supported_explanation\\': \"The response claims that the \\'stolperstein\\' was designed by Terry Swartzberg, an American public affairs campaigner and journalist. While Document 0 provides details about the \\'stolperstein\\' and Document 1 provides information about Terry Swartzberg\\'s involvement in the Stolpersteine project, there is no explicit statement in any of the documents that Terry Swartzberg designed the \\'stolperstein\\'. Therefore, the response is not fully supported by the provided documents.\", \\'relevance_explanation\\': \"Document 0 provides information about the \\'stolperstein\\' or stumbling stone, which is directly relevant to the question. Document 1 mentions Terry Swartzberg, who is identified as an American public affairs campaigner and journalist, and also notes his work with the stolperstein project. These two documents are necessary to answer the question by linking the \\'stolperstein\\' to an American public affairs campaigner.\", \\'all_relevant_sentence_keys\\': [\\'0a\\', \\'0b\\', \\'1a\\', \\'1c\\'], \\'all_utilized_sentence_keys\\': [], \\'trulens_groundedness\\': 0.0, \\'trulens_context_relevance\\': 0.8, \\'ragas_faithfulness\\': 0.0, \\'ragas_context_relevance\\': 0.0, \\'gpt3_adherence\\': 0.0, \\'gpt3_context_relevance\\': 0.2727272727272727, \\'gpt35_utilization\\': 0.18181818181818182, \\'relevance_score\\': 0.36363636363636365, \\'utilization_score\\': 0.0, \\'completeness_score\\': 0.0, \\'contexts\\': [\\'A stolperstein (] from German, literally \"stumbling stone\", metaphorically a \"stumbling block\" or a stone to \"stumble upon\", plural stolpersteine) is a cobblestone-size (10x10 cm ) concrete cube bearing a brass plate inscribed with the name and life dates of victims of Nazi extermination or persecution. The \"stolperstein\" art project was initiated by the German artist Gunter Demnig in 1992, and is still ongoing. It aims at commemorating individual persons at exactly the last place of\\']}'}]\n"
     ]
    },
    {
     "name": "stderr",
     "output_type": "stream",
     "text": [
      "Map: 100%|██████████| 4/4 [00:11<00:00,  2.82s/ examples]\n",
      "Evaluating:   0%|          | 0/8 [00:00<?, ?it/s]"
     ]
    },
    {
     "name": "stdout",
     "output_type": "stream",
     "text": [
      "2024-12-07 20:56:35,502 - httpx - INFO - HTTP Request: POST https://api.openai.com/v1/chat/completions \"HTTP/1.1 200 OK\"\n",
      "2024-12-07 20:56:35,507 - httpx - INFO - HTTP Request: POST https://api.openai.com/v1/chat/completions \"HTTP/1.1 200 OK\"\n"
     ]
    },
    {
     "name": "stderr",
     "output_type": "stream",
     "text": [
      "Evaluating:  12%|█▎        | 1/8 [00:00<00:02,  2.84it/s]"
     ]
    },
    {
     "name": "stdout",
     "output_type": "stream",
     "text": [
      "2024-12-07 20:56:35,846 - httpx - INFO - HTTP Request: POST https://api.openai.com/v1/chat/completions \"HTTP/1.1 200 OK\"\n",
      "2024-12-07 20:56:35,875 - httpx - INFO - HTTP Request: POST https://api.openai.com/v1/chat/completions \"HTTP/1.1 200 OK\"\n"
     ]
    },
    {
     "name": "stderr",
     "output_type": "stream",
     "text": [
      "Evaluating:  25%|██▌       | 2/8 [00:00<00:02,  2.77it/s]"
     ]
    },
    {
     "name": "stdout",
     "output_type": "stream",
     "text": [
      "2024-12-07 20:56:36,256 - httpx - INFO - HTTP Request: POST https://api.openai.com/v1/chat/completions \"HTTP/1.1 200 OK\"\n",
      "2024-12-07 20:56:36,256 - httpx - INFO - HTTP Request: POST https://api.openai.com/v1/chat/completions \"HTTP/1.1 200 OK\"\n"
     ]
    },
    {
     "name": "stderr",
     "output_type": "stream",
     "text": [
      "Evaluating:  38%|███▊      | 3/8 [00:01<00:01,  2.69it/s]"
     ]
    },
    {
     "name": "stdout",
     "output_type": "stream",
     "text": [
      "2024-12-07 20:56:36,478 - httpx - INFO - HTTP Request: POST https://api.openai.com/v1/chat/completions \"HTTP/1.1 200 OK\"\n",
      "2024-12-07 20:56:36,559 - httpx - INFO - HTTP Request: POST https://api.openai.com/v1/chat/completions \"HTTP/1.1 200 OK\"\n",
      "2024-12-07 20:56:36,562 - ragas.metrics._faithfulness - WARNING - No statements were generated from the answer.\n"
     ]
    },
    {
     "name": "stderr",
     "output_type": "stream",
     "text": [
      "Evaluating:  50%|█████     | 4/8 [00:01<00:01,  2.91it/s]"
     ]
    },
    {
     "name": "stdout",
     "output_type": "stream",
     "text": [
      "2024-12-07 20:56:36,619 - httpx - INFO - HTTP Request: POST https://api.openai.com/v1/chat/completions \"HTTP/1.1 200 OK\"\n",
      "2024-12-07 20:56:37,179 - httpx - INFO - HTTP Request: POST https://api.openai.com/v1/chat/completions \"HTTP/1.1 200 OK\"\n"
     ]
    },
    {
     "name": "stderr",
     "output_type": "stream",
     "text": [
      "Evaluating:  75%|███████▌  | 6/8 [00:02<00:00,  3.07it/s]"
     ]
    },
    {
     "name": "stdout",
     "output_type": "stream",
     "text": [
      "2024-12-07 20:56:37,998 - httpx - INFO - HTTP Request: POST https://api.openai.com/v1/chat/completions \"HTTP/1.1 200 OK\"\n"
     ]
    },
    {
     "name": "stderr",
     "output_type": "stream",
     "text": [
      "Evaluating:  88%|████████▊ | 7/8 [00:02<00:00,  2.17it/s]"
     ]
    },
    {
     "name": "stdout",
     "output_type": "stream",
     "text": [
      "2024-12-07 20:56:38,651 - httpx - INFO - HTTP Request: POST https://api.openai.com/v1/chat/completions \"HTTP/1.1 200 OK\"\n"
     ]
    },
    {
     "name": "stderr",
     "output_type": "stream",
     "text": [
      "Evaluating: 100%|██████████| 8/8 [00:03<00:00,  2.29it/s]"
     ]
    },
    {
     "name": "stdout",
     "output_type": "stream",
     "text": [
      "Calculated Metrics 2:\n",
      "{'relevance_rmse': 0.21071692178021015, 'hallucination_auroc': 1.0}\n"
     ]
    },
    {
     "name": "stderr",
     "output_type": "stream",
     "text": [
      "\n"
     ]
    }
   ],
   "execution_count": 1
  },
  {
   "metadata": {
    "ExecuteTime": {
     "end_time": "2024-12-08T04:59:51.742315Z",
     "start_time": "2024-12-08T04:59:51.736715Z"
    }
   },
   "cell_type": "code",
   "source": [
    "# Print the results\n",
    "print(\"Calculated Metrics:\")\n",
    "print(calculated_metrics)\n",
    "\n",
    "print(\"Calculated Metrics 2:\")\n",
    "print(calculated_metrics_two)\n"
   ],
   "id": "1bc013fa96bc103e",
   "outputs": [
    {
     "name": "stdout",
     "output_type": "stream",
     "text": [
      "Calculated Metrics:\n",
      "{'relevance_rmse': 0.21071692178021015, 'hallucination_auroc': 0.8333333333333333}\n",
      "Calculated Metrics 2:\n",
      "{'relevance_rmse': 0.21071692178021015, 'hallucination_auroc': 1.0}\n"
     ]
    }
   ],
   "execution_count": 3
  }
 ],
 "metadata": {
  "kernelspec": {
   "display_name": "Python 3",
   "language": "python",
   "name": "python3"
  },
  "language_info": {
   "codemirror_mode": {
    "name": "ipython",
    "version": 2
   },
   "file_extension": ".py",
   "mimetype": "text/x-python",
   "name": "python",
   "nbconvert_exporter": "python",
   "pygments_lexer": "ipython2",
   "version": "2.7.6"
  }
 },
 "nbformat": 4,
 "nbformat_minor": 5
}
