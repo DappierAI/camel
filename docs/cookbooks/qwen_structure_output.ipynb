{
 "cells": [
  {
   "cell_type": "markdown",
   "metadata": {},
   "source": [
    "# Data model generation and structured output(Camel Agent using Qwen) "
   ]
  },
  {
   "cell_type": "markdown",
   "metadata": {},
   "source": [
    "LLMs speaks natural languages, as human do. While the applications speak structured language, like JSON. So, it’s important to equip LLM with the ability to speak structured language, so that they can communicate with both human and other applications.\n",
    "\n",
    "There are a few different high level strategies that are used to do this:\n",
    "\n",
    "- Prompting: This is when you ask the LLM (very nicely) to return output in the desired format (JSON, XML). This is nice because it works with all LLMs. It is not nice because there is no guarantee that the LLM returns the output in the right format.\n",
    "- Function calling: This is when the LLM is fine-tuned to be able to not just generate a completion, but also generate a function call. The functions the LLM can call are generally passed as extra parameters to the model API. The function names and descriptions should be treated as part of the prompt (they usually count against token counts, and are used by the LLM to decide what to do).\n",
    "- JSON mode: This is when the LLM is guaranteed to return JSON.\n",
    "\n",
    "In Camel, the agent uses both prompting and function calling. For models does not support tool calling, camel will use prompt engineering for it to generate valid structure output."
   ]
  },
  {
   "cell_type": "markdown",
   "metadata": {},
   "source": [
    "## Qwen data generation"
   ]
  },
  {
   "cell_type": "markdown",
   "metadata": {},
   "source": [
    "[Qwen](https://www.alibabacloud.com/help/en/model-studio/developer-reference/use-qwen-by-calling-api) is a good example in Camel of using prompt engineering for structure output. It offers powerful models like **Qwen-max**, **Qwen-coder**, but yet not support structure output by itself. We can then make use of its own ability to generate structured data. "
   ]
  },
  {
   "cell_type": "markdown",
   "metadata": {},
   "source": [
    "Import necessary libraries, define the Qwen agent, and define the Pydantic classes. "
   ]
  },
  {
   "cell_type": "code",
   "execution_count": 4,
   "metadata": {},
   "outputs": [],
   "source": [
    "from pydantic import BaseModel, Field\n",
    "\n",
    "from camel.agents import ChatAgent\n",
    "from camel.messages import BaseMessage\n",
    "from camel.models import ModelFactory\n",
    "from camel.types import ModelPlatformType, ModelType\n",
    "from camel.configs import QwenConfig\n",
    "\n",
    "from dotenv import load_dotenv\n",
    "import os\n",
    "load_dotenv() \n",
    "\n",
    "# Define Qwen model\n",
    "qwen_model = ModelFactory.create(\n",
    "    model_platform=ModelPlatformType.QWEN,\n",
    "    model_type=ModelType.QWEN_PLUS,\n",
    "    model_config_dict=QwenConfig().as_dict(),\n",
    ")\n",
    "\n",
    "qwen_agent = ChatAgent(\n",
    "    model=qwen_model,\n",
    "    message_window_size=10,\n",
    ")\n",
    "\n",
    "\n",
    "# Define Pydantic models\n",
    "class Student(BaseModel):\n",
    "    name: str\n",
    "    age: str\n",
    "    email: str\n",
    "\n",
    "\n"
   ]
  },
  {
   "cell_type": "markdown",
   "metadata": {},
   "source": [
    "First, let's try if we don't specific format just in prompt. "
   ]
  },
  {
   "cell_type": "code",
   "execution_count": 5,
   "metadata": {},
   "outputs": [
    {
     "name": "stdout",
     "output_type": "stream",
     "text": [
      "2024-12-18 16:13:25,265 - httpx - INFO - HTTP Request: POST https://dashscope.aliyuncs.com/compatible-mode/v1/chat/completions \"HTTP/1.1 200 OK\"\n",
      "2024-12-18 16:13:25,267 - camel.agents.chat_agent - INFO - Model qwen-plus, index 0, processed these messages: [{'role': 'user', 'content': 'Help me 1 student info in JSON format, with the following format:\\n{\\n    \"name\": \"string\",\\n    \"age\": \"string\",\\n    \"email\": \"string\"\\n}'}]\n",
      "Certainly! Below is an example of a student's information formatted in JSON as you requested:\n",
      "\n",
      "```json\n",
      "{\n",
      "    \"name\": \"John Doe\",\n",
      "    \"age\": \"20\",\n",
      "    \"email\": \"johndoe@example.com\"\n",
      "}\n",
      "```\n",
      "\n",
      "If you need more specific details or another example, feel free to let me know!\n"
     ]
    }
   ],
   "source": [
    "assistant_sys_msg = BaseMessage.make_assistant_message(\n",
    "    role_name=\"Assistant\",\n",
    "    content=\"You are a helpful assistant in helping user to generate necessary data information.\",\n",
    ")\n",
    "\n",
    "user_msg = \"\"\"Help me 1 student info in JSON format, with the following format:\n",
    "{\n",
    "    \"name\": \"string\",\n",
    "    \"age\": \"string\",\n",
    "    \"email\": \"string\"\n",
    "}\"\"\"\n",
    "\n",
    "response = qwen_agent.step(user_msg)\n",
    "print(response.msgs[0].content)\n",
    "\n",
    "\n"
   ]
  },
  {
   "cell_type": "markdown",
   "metadata": {},
   "source": [
    "It did it, but we need to expand our prompts, and the result still has some annoying extra texts, and we still need to parse it into valid JSON object by ourselves. \n",
    "\n",
    "A more elegant way is to use the `response_format` argument in `.step()` function:"
   ]
  },
  {
   "cell_type": "code",
   "execution_count": 9,
   "metadata": {},
   "outputs": [
    {
     "name": "stdout",
     "output_type": "stream",
     "text": [
      "2024-12-18 16:20:15,988 - httpx - INFO - HTTP Request: POST https://dashscope.aliyuncs.com/compatible-mode/v1/chat/completions \"HTTP/1.1 200 OK\"\n",
      "2024-12-18 16:20:15,991 - camel.agents.chat_agent - INFO - Model qwen-plus, index 0, processed these messages: [{'role': 'user', 'content': \"\\n    Given the user message, please generate a JSON response adhering to the following JSON schema:\\n{'properties': {'name': {'title': 'Name', 'type': 'string'}, 'age': {'title': 'Age', 'type': 'string'}, 'email': {'title': 'Email', 'type': 'string'}}, 'required': ['name', 'age', 'email'], 'title': 'Student', 'type': 'object'}\\nMake sure the JSON response is valid and matches the EXACT structure defined in the schema. Your result should only be a valid json object, without any other text or comments.\\n\\n    User message: Help me 1 student info in JSON format\\n\\n    \"}]\n",
      "{\n",
      "  \"name\": \"John Doe\",\n",
      "  \"age\": \"20\",\n",
      "  \"email\": \"johndoe@example.com\"\n",
      "}\n"
     ]
    }
   ],
   "source": [
    "qwen_agent.reset()\n",
    "user_msg = \"Help me 1 student info in JSON format\"\n",
    "response = qwen_agent.step(user_msg, response_format=Student)\n",
    "print(response.msgs[0].content)"
   ]
  },
  {
   "cell_type": "markdown",
   "metadata": {},
   "source": [
    "And we can directly extract the Pydantic object in `response.msgs[0].parsed` field:"
   ]
  },
  {
   "cell_type": "code",
   "execution_count": 11,
   "metadata": {},
   "outputs": [
    {
     "name": "stdout",
     "output_type": "stream",
     "text": [
      "<class '__main__.Student'>\n",
      "name='John Doe' age='20' email='johndoe@example.com'\n"
     ]
    }
   ],
   "source": [
    "print(type(response.msgs[0].parsed))\n",
    "print(response.msgs[0].parsed)\n"
   ]
  },
  {
   "cell_type": "markdown",
   "metadata": {},
   "source": [
    "Hooray, now we successfully generate 1 entry of student, suppose we want to generate more, we can still achieve this easily."
   ]
  },
  {
   "cell_type": "code",
   "execution_count": 13,
   "metadata": {},
   "outputs": [
    {
     "name": "stdout",
     "output_type": "stream",
     "text": [
      "2024-12-18 16:24:04,985 - httpx - INFO - HTTP Request: POST https://dashscope.aliyuncs.com/compatible-mode/v1/chat/completions \"HTTP/1.1 200 OK\"\n",
      "2024-12-18 16:24:04,988 - camel.agents.chat_agent - INFO - Model qwen-plus, index 0, processed these messages: [{'role': 'user', 'content': 'Help me 1 student info in JSON format'}, {'role': 'assistant', 'content': '{\\n  \"name\": \"John Doe\",\\n  \"age\": \"20\",\\n  \"email\": \"johndoe@example.com\"\\n}'}, {'role': 'user', 'content': 'Help me 3 random student info in JSON format'}, {'role': 'assistant', 'content': '{\\n  \"studentList\": [\\n    {\\n      \"name\": \"Alice Johnson\",\\n      \"age\": \"22\",\\n      \"email\": \"alice.johnson@example.com\"\\n    },\\n    {\\n      \"name\": \"Bob Smith\",\\n      \"age\": \"21\",\\n      \"email\": \"bob.smith@example.com\"\\n    },\\n    {\\n      \"name\": \"Charlie Brown\",\\n      \"age\": \"23\",\\n      \"email\": \"charlie.brown@example.com\"\\n    }\\n  ]\\n}'}, {'role': 'user', 'content': \"\\n    Given the user message, please generate a JSON response adhering to the following JSON schema:\\n{'$defs': {'Student': {'properties': {'name': {'title': 'Name', 'type': 'string'}, 'age': {'title': 'Age', 'type': 'string'}, 'email': {'title': 'Email', 'type': 'string'}}, 'required': ['name', 'age', 'email'], 'title': 'Student', 'type': 'object'}}, 'properties': {'studentList': {'items': {'$ref': '#/$defs/Student'}, 'title': 'Studentlist', 'type': 'array'}}, 'required': ['studentList'], 'title': 'StudentList', 'type': 'object'}\\nMake sure the JSON response is valid and matches the EXACT structure defined in the schema. Your result should only be a valid json object, without any other text or comments.\\n\\n    User message: Help me 5 random student info in JSON format\\n\\n    \"}]\n",
      "{\n",
      "  \"studentList\": [\n",
      "    {\n",
      "      \"name\": \"Emma Williams\",\n",
      "      \"age\": \"20\",\n",
      "      \"email\": \"emma.williams@example.com\"\n",
      "    },\n",
      "    {\n",
      "      \"name\": \"Liam Davis\",\n",
      "      \"age\": \"21\",\n",
      "      \"email\": \"liam.davis@example.com\"\n",
      "    },\n",
      "    {\n",
      "      \"name\": \"Olivia Taylor\",\n",
      "      \"age\": \"22\",\n",
      "      \"email\": \"olivia.taylor@example.com\"\n",
      "    },\n",
      "    {\n",
      "      \"name\": \"Noah Anderson\",\n",
      "      \"age\": \"23\",\n",
      "      \"email\": \"noah.anderson@example.com\"\n",
      "    },\n",
      "    {\n",
      "      \"name\": \"Ava Martinez\",\n",
      "      \"age\": \"24\",\n",
      "      \"email\": \"ava.martinez@example.com\"\n",
      "    }\n",
      "  ]\n",
      "}\n",
      "studentList=[Student(name='Emma Williams', age='20', email='emma.williams@example.com'), Student(name='Liam Davis', age='21', email='liam.davis@example.com'), Student(name='Olivia Taylor', age='22', email='olivia.taylor@example.com'), Student(name='Noah Anderson', age='23', email='noah.anderson@example.com'), Student(name='Ava Martinez', age='24', email='ava.martinez@example.com')]\n"
     ]
    }
   ],
   "source": [
    "class StudentList(BaseModel):\n",
    "    studentList: list[Student]\n",
    "\n",
    "user_msg = \"Help me 5 random student info in JSON format\"\n",
    "response = qwen_agent.step(user_msg, response_format=StudentList)\n",
    "print(response.msgs[0].content)\n",
    "print(response.msgs[0].parsed)\n",
    "\n"
   ]
  },
  {
   "cell_type": "markdown",
   "metadata": {},
   "source": [
    "That's it! We just generate 5 random students out of nowhere by using Qwen Camel agent!"
   ]
  }
 ],
 "metadata": {
  "kernelspec": {
   "display_name": "Python 3",
   "language": "python",
   "name": "python3"
  },
  "language_info": {
   "codemirror_mode": {
    "name": "ipython",
    "version": 3
   },
   "file_extension": ".py",
   "mimetype": "text/x-python",
   "name": "python",
   "nbconvert_exporter": "python",
   "pygments_lexer": "ipython3",
   "version": "3.12.7"
  }
 },
 "nbformat": 4,
 "nbformat_minor": 2
}
